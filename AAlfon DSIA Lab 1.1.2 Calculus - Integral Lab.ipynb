{
 "cells": [
  {
   "cell_type": "markdown",
   "metadata": {
    "colab_type": "text",
    "id": "YPFbgplmKcYp"
   },
   "source": [
    "![dsia](https://static1.squarespace.com/static/5c4631190dbda3abea29db4c/t/5c465b0dc74c5024875652f7/1549343891985/?format=1500w)\n",
    "\n",
    "# Calculus - Integral"
   ]
  },
  {
   "cell_type": "code",
   "execution_count": 1,
   "metadata": {
    "colab": {},
    "colab_type": "code",
    "id": "NxkLjNxUKcYr"
   },
   "outputs": [],
   "source": [
    "import numpy as np\n",
    "import matplotlib.pyplot as plt\n",
    "# get matplot to show charts inline\n",
    "%matplotlib inline"
   ]
  },
  {
   "cell_type": "code",
   "execution_count": 2,
   "metadata": {
    "colab": {},
    "colab_type": "code",
    "id": "49k4u8lCKcYy"
   },
   "outputs": [],
   "source": [
    "# define a function such as f(x) = x**2\n",
    "def f(x):\n",
    "  '''\n",
    "  Return x**2\n",
    "  '''\n",
    "  return x**2"
   ]
  },
  {
   "cell_type": "code",
   "execution_count": 3,
   "metadata": {
    "colab": {},
    "colab_type": "code",
    "id": "lrcZ0mY6KcZD"
   },
   "outputs": [
    {
     "data": {
      "image/png": "[encoded data removed]",
      "text/plain": [
       "<Figure size 432x288 with 1 Axes>"
      ]
     },
     "metadata": {
      "needs_background": "light"
     },
     "output_type": "display_data"
    }
   ],
   "source": [
    "# plot f(x)\n",
    "x = np.arange(-10, 11, 1)\n",
    "y = f(x)\n",
    "\n",
    "plt.plot(x, y)\n",
    "plt.xlabel('x')\n",
    "plt.ylabel('f(x)')\n",
    "\n",
    "plt.show();"
   ]
  },
  {
   "cell_type": "code",
   "execution_count": 4,
   "metadata": {
    "colab": {},
    "colab_type": "code",
    "id": "VBkIo2EpKcY3"
   },
   "outputs": [
    {
     "name": "stdout",
     "output_type": "stream",
     "text": [
      "f(2) =  4\n",
      "f(5) =  25\n",
      "f(-3) =  9\n"
     ]
    }
   ],
   "source": [
    "# test the function you defined above by simply print its value for some numbers\n",
    "print('f(2) = ', f(2))\n",
    "print('f(5) = ', f(5))\n",
    "print('f(-3) = ', f(-3))"
   ]
  },
  {
   "cell_type": "code",
   "execution_count": 11,
   "metadata": {
    "colab": {},
    "colab_type": "code",
    "id": "4sX3AWgcKcZM"
   },
   "outputs": [
    {
     "ename": "SyntaxError",
     "evalue": "invalid syntax (<ipython-input-11-e63442afc85b>, line 8)",
     "output_type": "error",
     "traceback": [
      "\u001b[1;36m  File \u001b[1;32m\"<ipython-input-11-e63442afc85b>\"\u001b[1;36m, line \u001b[1;32m8\u001b[0m\n\u001b[1;33m    totalArea = 0\u001b[0m\n\u001b[1;37m            ^\u001b[0m\n\u001b[1;31mSyntaxError\u001b[0m\u001b[1;31m:\u001b[0m invalid syntax\n"
     ]
    }
   ],
   "source": [
    "# define integral of f(x)\n",
    "# integral of a function is the area under the curve of this function\n",
    "# it can be approximated by plotting lots of retangles and add their areas\n",
    "# the more reactangles you draw, the better is the approximation\n",
    "# but why do it by hand where python can do a much better job?!\n",
    "def integral(startX, endX, numberOfRectangles):\n",
    "    width = (float(endX) - float(startX)/ numberOfRectangles\n",
    "    totalArea = 0\n",
    "    for i in range(numberOfRectangles):\n",
    "        height = f(startX + i*width)\n",
    "        area = width * height\n",
    "        totalArea += area\n",
    "    return totalArea"
   ]
  },
  {
   "cell_type": "code",
   "execution_count": 6,
   "metadata": {
    "colab": {},
    "colab_type": "code",
    "id": "oS70agDbKcZR"
   },
   "outputs": [
    {
     "ename": "NameError",
     "evalue": "name 'integral' is not defined",
     "output_type": "error",
     "traceback": [
      "\u001b[1;31m---------------------------------------------------------------------------\u001b[0m",
      "\u001b[1;31mNameError\u001b[0m                                 Traceback (most recent call last)",
      "\u001b[1;32m<ipython-input-6-bc7991ddc0d3>\u001b[0m in \u001b[0;36m<module>\u001b[1;34m\u001b[0m\n\u001b[0;32m      1\u001b[0m \u001b[1;31m# calculate integral of f(x) for some startX, endX and a number of rectangles\u001b[0m\u001b[1;33m\u001b[0m\u001b[1;33m\u001b[0m\u001b[1;33m\u001b[0m\u001b[0m\n\u001b[1;32m----> 2\u001b[1;33m \u001b[0mprint\u001b[0m\u001b[1;33m(\u001b[0m\u001b[1;34m'integral(2.0,4.0,10) = '\u001b[0m\u001b[1;33m,\u001b[0m\u001b[0mintegral\u001b[0m\u001b[1;33m(\u001b[0m\u001b[1;36m2.0\u001b[0m\u001b[1;33m,\u001b[0m\u001b[1;36m4.0\u001b[0m\u001b[1;33m,\u001b[0m\u001b[1;36m10\u001b[0m\u001b[1;33m)\u001b[0m\u001b[1;33m)\u001b[0m\u001b[1;33m\u001b[0m\u001b[1;33m\u001b[0m\u001b[0m\n\u001b[0m\u001b[0;32m      3\u001b[0m \u001b[0mprint\u001b[0m\u001b[1;33m(\u001b[0m\u001b[1;34m'integral(2.0,4.0,1000) = '\u001b[0m\u001b[1;33m,\u001b[0m\u001b[0mintegral\u001b[0m\u001b[1;33m(\u001b[0m\u001b[1;36m2.0\u001b[0m\u001b[1;33m,\u001b[0m\u001b[1;36m4.0\u001b[0m\u001b[1;33m,\u001b[0m\u001b[1;36m1000\u001b[0m\u001b[1;33m)\u001b[0m\u001b[1;33m)\u001b[0m\u001b[1;33m\u001b[0m\u001b[1;33m\u001b[0m\u001b[0m\n\u001b[0;32m      4\u001b[0m \u001b[0mprint\u001b[0m\u001b[1;33m(\u001b[0m\u001b[1;34m'-----'\u001b[0m\u001b[1;33m)\u001b[0m\u001b[1;33m\u001b[0m\u001b[1;33m\u001b[0m\u001b[0m\n\u001b[0;32m      5\u001b[0m \u001b[0mprint\u001b[0m\u001b[1;33m(\u001b[0m\u001b[1;34m'integral(-1.0,2.0,10) = '\u001b[0m\u001b[1;33m,\u001b[0m\u001b[0mintegral\u001b[0m\u001b[1;33m(\u001b[0m\u001b[1;33m-\u001b[0m\u001b[1;36m1.0\u001b[0m\u001b[1;33m,\u001b[0m\u001b[1;36m2.0\u001b[0m\u001b[1;33m,\u001b[0m\u001b[1;36m10\u001b[0m\u001b[1;33m)\u001b[0m\u001b[1;33m)\u001b[0m\u001b[1;33m\u001b[0m\u001b[1;33m\u001b[0m\u001b[0m\n",
      "\u001b[1;31mNameError\u001b[0m: name 'integral' is not defined"
     ]
    }
   ],
   "source": [
    "# calculate integral of f(x) for some startX, endX and a number of rectangles\n",
    "print('integral(2.0,4.0,10) = ',integral(2.0,4.0,10))\n",
    "print('integral(2.0,4.0,1000) = ',integral(2.0,4.0,1000))\n",
    "print('-----')\n",
    "print('integral(-1.0,2.0,10) = ',integral(-1.0,2.0,10))\n",
    "print('integral(-1.0,2.0,1000) = ',integral(-1.0,2.0,1000))"
   ]
  },
  {
   "cell_type": "code",
   "execution_count": null,
   "metadata": {},
   "outputs": [],
   "source": []
  }
 ],
 "metadata": {
  "colab": {
   "name": "Calculus - Integral Lab.ipynb",
   "provenance": [
    {
     "file_id": "https://github.com/ikfaisal/dsia/blob/master/Calculus_Integral.ipynb",
     "timestamp": 1552459796323
    }
   ],
   "version": "0.3.2"
  },
  "kernelspec": {
   "display_name": "Python 3",
   "language": "python",
   "name": "python3"
  },
  "language_info": {
   "codemirror_mode": {
    "name": "ipython",
    "version": 3
   },
   "file_extension": ".py",
   "mimetype": "text/x-python",
   "name": "python",
   "nbconvert_exporter": "python",
   "pygments_lexer": "ipython3",
   "version": "3.7.3"
  }
 },
 "nbformat": 4,
 "nbformat_minor": 4
}
