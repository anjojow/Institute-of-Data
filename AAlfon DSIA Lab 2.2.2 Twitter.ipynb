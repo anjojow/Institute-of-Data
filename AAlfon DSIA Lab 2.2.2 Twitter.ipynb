{
 "cells": [
  {
   "cell_type": "markdown",
   "metadata": {
    "colab_type": "text",
    "id": "XfnQYVMtJhQD"
   },
   "source": [
    "![alt text](https://i.imgur.com/1WaY7aA.png)\n",
    "\n",
    "\n",
    "---\n",
    "\n",
    "\n",
    "\n",
    "---\n",
    "\n"
   ]
  },
  {
   "cell_type": "markdown",
   "metadata": {
    "colab_type": "text",
    "id": "5dCt8XbjJhQG"
   },
   "source": [
    "# Lab 2.2.2 \n",
    "# *Mining Social Media with Twitter*"
   ]
  },
  {
   "cell_type": "markdown",
   "metadata": {
    "colab_type": "text",
    "id": "b5VfS9hhJhQI"
   },
   "source": [
    "## The Twitter API and Tweepy Package"
   ]
  },
  {
   "cell_type": "markdown",
   "metadata": {
    "colab_type": "text",
    "id": "lF2z-w5uJhQK"
   },
   "source": [
    "The Twitter API provides access to tweets and comments, and allows an application to post tweets to the user's timeline. \n",
    "\n",
    "Twitter requires developers to create and authenticate an app before they can use the API. As of recent policy changes, however, new developers must be approved before they can create an app. There is no indication of the waiting period for approval."
   ]
  },
  {
   "cell_type": "markdown",
   "metadata": {
    "colab_type": "text",
    "id": "M0wxJ8HNJhQM"
   },
   "source": [
    "### 1. Apply for Developer Access\n",
    "\n",
    "Go to https://blog.twitter.com/developer/en_us/topics/tools/2018/new-developer-requirements-to-protect-our-platform.html\n",
    "and read the advice.\n",
    "![image.png](attachment:image.png)"
   ]
  },
  {
   "cell_type": "markdown",
   "metadata": {
    "colab_type": "text",
    "id": "tICSKwL1JhQN"
   },
   "source": [
    "Apply at https://developer.twitter.com/en/apply-for-access.html\n",
    "![image.png](attachment:image.png)"
   ]
  },
  {
   "cell_type": "markdown",
   "metadata": {
    "colab_type": "text",
    "id": "M4-znQaaJhQP"
   },
   "source": [
    "Then go to https://developer.twitter.com/en/review every day until you see whatever comes after this: \n",
    "![image.png](attachment:image.png)"
   ]
  },
  {
   "cell_type": "markdown",
   "metadata": {
    "colab_type": "text",
    "id": "NMeZ70IZJhQR"
   },
   "source": [
    "### 2. Create Your Twitter App\n",
    "![image.png](attachment:image.png)"
   ]
  },
  {
   "cell_type": "markdown",
   "metadata": {
    "colab_type": "text",
    "id": "HpWMHz9NJhQS"
   },
   "source": [
    "### 3. Load Python Libraries"
   ]
  },
  {
   "cell_type": "code",
   "execution_count": 1,
   "metadata": {
    "ExecuteTime": {
     "end_time": "2019-07-05T02:38:37.916562Z",
     "start_time": "2019-07-05T02:38:37.167567Z"
    },
    "colab": {},
    "colab_type": "code",
    "id": "16hb8EpNJhQU"
   },
   "outputs": [],
   "source": [
    "import tweepy\n",
    "import json\n",
    "import pprint"
   ]
  },
  {
   "cell_type": "markdown",
   "metadata": {
    "colab_type": "text",
    "id": "p7W0se6_JhQX"
   },
   "source": [
    "### 4. Authenticate from your Python script"
   ]
  },
  {
   "cell_type": "markdown",
   "metadata": {
    "colab_type": "text",
    "id": "mJfe55dVJhQY"
   },
   "source": [
    "You could assign your authentication details explicitly, as follows:"
   ]
  },
  {
   "cell_type": "code",
   "execution_count": 2,
   "metadata": {
    "ExecuteTime": {
     "end_time": "2019-07-05T02:38:40.526175Z",
     "start_time": "2019-07-05T02:38:40.520192Z"
    },
    "colab": {},
    "colab_type": "code",
    "id": "aygW7a3eJhQZ"
   },
   "outputs": [],
   "source": [
    "my_consumer_key = 'HczHSa7rhDLK0O3lwpBH9wS3W'      # your consumer key (string) goes in here\n",
    "my_consumer_secret = 'VJ9DMx23AsOqZIAyjU8MLpp9heVbFxZumZwWeVNjmp8vn8eOqL'   # your consumer secret key (string) goes in here\n",
    "my_access_token = '239045716-SCrblitigbxOQEaCmBklKEajBU8QFWilVPKdgaaR'      # your access token (string goes in here\n",
    "access_token_secret = 'fg6xPvSK32tw1fWSi70n3oORSGyano9bPuLFVALxKD1Ig'  # your access token secret (string) goes in here"
   ]
  },
  {
   "cell_type": "markdown",
   "metadata": {
    "colab_type": "text",
    "id": "7LXwmSzOJhQe"
   },
   "source": [
    "A better way would be to store these details externally, so they are not displayed in the notebook:\n",
    "\n",
    "- create a file called \"auth_twitter.json\" in your \"notebooks\" directory, and save your credentials there in JSON format:\n",
    "\n",
    "`{   \"my_consumer_key\": \"your consumer key (string) goes in here\",` <br>\n",
    "&nbsp;&nbsp;&nbsp;&nbsp;&nbsp;&nbsp;&nbsp;&nbsp;` \"my_consumer_secret\": \"your consumer secret key (string) goes in here\",` <br>\n",
    "&nbsp;&nbsp;&nbsp;&nbsp;&nbsp;&nbsp;&nbsp;&nbsp;`\"your access token (string goes in here\",` <br>\n",
    "&nbsp;&nbsp;&nbsp;&nbsp;&nbsp;&nbsp;&nbsp;&nbsp;`\"my_access_token_secret\": \"your access token secret (string) goes in here\"` <br>\n",
    "`}`\n",
    "\n",
    "(Nb. Parsers are very fussy. Make sure each key:value pair has a comma after it except the last one!)  \n",
    "\n",
    "Use the following code to load the credentials:  "
   ]
  },
  {
   "cell_type": "code",
   "execution_count": 3,
   "metadata": {},
   "outputs": [],
   "source": [
    "auth_twitter = {\n",
    "    \"my_consumer_key\" : \"HczHSa7rhDLK0O3lwpBH9wS3W\", \n",
    "        \"my_consumer_secret\" : \"VJ9DMx23AsOqZIAyjU8MLpp9heVbFxZumZwWeVNjmp8vn8eOqL\", \n",
    "        \"my_access_token\" : \"239045716-SCrblitigbxOQEaCmBklKEajBU8QFWilVPKdgaaR\", \n",
    "        \"my_access_token_secret\" : \"fg6xPvSK32tw1fWSi70n3oORSGyano9bPuLFVALxKD1Ig\" \n",
    "}"
   ]
  },
  {
   "cell_type": "code",
   "execution_count": 4,
   "metadata": {},
   "outputs": [],
   "source": [
    "with open('auth_twitter.json', 'w') as outfile:  \n",
    "    json.dump(auth_twitter, outfile)"
   ]
  },
  {
   "cell_type": "code",
   "execution_count": 5,
   "metadata": {
    "ExecuteTime": {
     "end_time": "2019-07-05T02:38:44.463754Z",
     "start_time": "2019-07-05T02:38:44.444805Z"
    },
    "colab": {},
    "colab_type": "code",
    "id": "kh2srKpzJhQh"
   },
   "outputs": [
    {
     "data": {
      "text/plain": [
       "'C:\\\\Users\\\\Anjo\\\\Documents\\\\Data Science Modules\\\\LABS'"
      ]
     },
     "execution_count": 5,
     "metadata": {},
     "output_type": "execute_result"
    }
   ],
   "source": [
    "pwd()  # make sure your working directory is where the file is"
   ]
  },
  {
   "cell_type": "code",
   "execution_count": 6,
   "metadata": {
    "ExecuteTime": {
     "end_time": "2019-07-05T02:38:50.272433Z",
     "start_time": "2019-07-05T02:38:50.097954Z"
    },
    "colab": {},
    "colab_type": "code",
    "id": "uR8Vchz7JhQm"
   },
   "outputs": [
    {
     "name": "stdout",
     "output_type": "stream",
     "text": [
      "{   'my_access_token': '239045716-SCrblitigbxOQEaCmBklKEajBU8QFWilVPKdgaaR',\n",
      "    'my_access_token_secret': 'fg6xPvSK32tw1fWSi70n3oORSGyano9bPuLFVALxKD1Ig',\n",
      "    'my_consumer_key': 'HczHSa7rhDLK0O3lwpBH9wS3W',\n",
      "    'my_consumer_secret': 'VJ9DMx23AsOqZIAyjU8MLpp9heVbFxZumZwWeVNjmp8vn8eOqL'}\n"
     ]
    }
   ],
   "source": [
    "path_auth = 'auth_twitter.json'\n",
    "auth = json.loads(open(path_auth).read())\n",
    "pp = pprint.PrettyPrinter(indent=4)\n",
    "# For debugging only:\n",
    "pp.pprint(auth)"
   ]
  },
  {
   "cell_type": "code",
   "execution_count": 7,
   "metadata": {},
   "outputs": [],
   "source": [
    "from tweepy.auth import OAuthHandler\n",
    "my_consumer_key = auth['my_consumer_key']\n",
    "my_consumer_secret = auth['my_consumer_secret']\n",
    "my_access_token = auth['my_access_token']\n",
    "my_access_token_secret = auth['my_access_token_secret']"
   ]
  },
  {
   "cell_type": "markdown",
   "metadata": {
    "colab_type": "text",
    "id": "GPRmYZigJhQp"
   },
   "source": [
    "Security considerations: \n",
    "- this method only keeps your credentials invisible as long as nobody accesses this notebook while it's running on your computer \n",
    "- if you wanted another user to have access to the executable notebook without divulging your credentials you should set up an OAuth 2.0 workflow to let them obtain and apply their own API tokens when using your app\n",
    "- if you just want to share your analyses, you could use a separate script (which you don't share) to fetch the data and save it locally, then use a second notebook (with no API access) to load and analyse the locally stored data"
   ]
  },
  {
   "cell_type": "markdown",
   "metadata": {
    "colab_type": "text",
    "id": "Ln30k0pZJhQp"
   },
   "source": [
    "### 5. Exploring the API"
   ]
  },
  {
   "cell_type": "markdown",
   "metadata": {
    "colab_type": "text",
    "id": "6fsc0U1nJhQq"
   },
   "source": [
    "Here is how to connect to Twitter using the Tweepy library:"
   ]
  },
  {
   "cell_type": "code",
   "execution_count": 8,
   "metadata": {
    "colab": {},
    "colab_type": "code",
    "id": "-y_4GBx1JhQr"
   },
   "outputs": [],
   "source": [
    "auth = tweepy.OAuthHandler(my_consumer_key, my_consumer_secret)\n",
    "auth.set_access_token(my_access_token, my_access_token_secret)\n",
    "api = tweepy.API(auth)"
   ]
  },
  {
   "cell_type": "markdown",
   "metadata": {
    "colab_type": "text",
    "id": "wSKzR9LdJhQu"
   },
   "source": [
    "In the next cell, put the cursor after the '.' and hit the [tab] key to see the available members and methods in the response object:"
   ]
  },
  {
   "cell_type": "code",
   "execution_count": 9,
   "metadata": {
    "colab": {},
    "colab_type": "code",
    "id": "BfnAOR2bJhQv"
   },
   "outputs": [
    {
     "data": {
      "text/plain": [
       "[User(_api=<tweepy.api.API object at 0x000001F3E18C0668>, _json={'id': 862578335955550208, 'id_str': '862578335955550208', 'name': 'Rein Silayan', 'screen_name': 'ReinSilayan', 'location': 'Las Pinas City, National Capital Region', 'description': '', 'url': None, 'entities': {'description': {'urls': []}}, 'protected': False, 'followers_count': 11, 'friends_count': 63, 'listed_count': 0, 'created_at': 'Thu May 11 08:01:16 +0000 2017', 'favourites_count': 27, 'utc_offset': None, 'time_zone': None, 'geo_enabled': False, 'verified': False, 'statuses_count': 43, 'lang': None, 'status': {'created_at': 'Fri Aug 02 07:21:18 +0000 2019', 'id': 1157189616895586305, 'id_str': '1157189616895586305', 'text': '@MMDA Hanggang anong oras po ang coding sa Sucat Road?', 'truncated': False, 'entities': {'hashtags': [], 'symbols': [], 'user_mentions': [{'screen_name': 'MMDA', 'name': 'Official MMDA', 'id': 171574926, 'id_str': '171574926', 'indices': [0, 5]}], 'urls': []}, 'source': '<a href=\"http://twitter.com/download/iphone\" rel=\"nofollow\">Twitter for iPhone</a>', 'in_reply_to_status_id': None, 'in_reply_to_status_id_str': None, 'in_reply_to_user_id': 171574926, 'in_reply_to_user_id_str': '171574926', 'in_reply_to_screen_name': 'MMDA', 'geo': None, 'coordinates': None, 'place': None, 'contributors': None, 'is_quote_status': False, 'retweet_count': 0, 'favorite_count': 0, 'favorited': False, 'retweeted': False, 'lang': 'tl'}, 'contributors_enabled': False, 'is_translator': False, 'is_translation_enabled': False, 'profile_background_color': 'F5F8FA', 'profile_background_image_url': None, 'profile_background_image_url_https': None, 'profile_background_tile': False, 'profile_image_url': 'http://pbs.twimg.com/profile_images/862580320226353152/FNP_77H6_normal.jpg', 'profile_image_url_https': 'https://pbs.twimg.com/profile_images/862580320226353152/FNP_77H6_normal.jpg', 'profile_banner_url': 'https://pbs.twimg.com/profile_banners/862578335955550208/1494490191', 'profile_link_color': '1DA1F2', 'profile_sidebar_border_color': 'C0DEED', 'profile_sidebar_fill_color': 'DDEEF6', 'profile_text_color': '333333', 'profile_use_background_image': True, 'has_extended_profile': True, 'default_profile': True, 'default_profile_image': False, 'can_media_tag': True, 'followed_by': True, 'following': False, 'live_following': False, 'follow_request_sent': False, 'notifications': False, 'muting': False, 'blocking': False, 'blocked_by': False, 'translator_type': 'none'}, id=862578335955550208, id_str='862578335955550208', name='Rein Silayan', screen_name='ReinSilayan', location='Las Pinas City, National Capital Region', description='', url=None, entities={'description': {'urls': []}}, protected=False, followers_count=11, friends_count=63, listed_count=0, created_at=datetime.datetime(2017, 5, 11, 8, 1, 16), favourites_count=27, utc_offset=None, time_zone=None, geo_enabled=False, verified=False, statuses_count=43, lang=None, status=Status(_api=<tweepy.api.API object at 0x000001F3E18C0668>, _json={'created_at': 'Fri Aug 02 07:21:18 +0000 2019', 'id': 1157189616895586305, 'id_str': '1157189616895586305', 'text': '@MMDA Hanggang anong oras po ang coding sa Sucat Road?', 'truncated': False, 'entities': {'hashtags': [], 'symbols': [], 'user_mentions': [{'screen_name': 'MMDA', 'name': 'Official MMDA', 'id': 171574926, 'id_str': '171574926', 'indices': [0, 5]}], 'urls': []}, 'source': '<a href=\"http://twitter.com/download/iphone\" rel=\"nofollow\">Twitter for iPhone</a>', 'in_reply_to_status_id': None, 'in_reply_to_status_id_str': None, 'in_reply_to_user_id': 171574926, 'in_reply_to_user_id_str': '171574926', 'in_reply_to_screen_name': 'MMDA', 'geo': None, 'coordinates': None, 'place': None, 'contributors': None, 'is_quote_status': False, 'retweet_count': 0, 'favorite_count': 0, 'favorited': False, 'retweeted': False, 'lang': 'tl'}, created_at=datetime.datetime(2019, 8, 2, 7, 21, 18), id=1157189616895586305, id_str='1157189616895586305', text='@MMDA Hanggang anong oras po ang coding sa Sucat Road?', truncated=False, entities={'hashtags': [], 'symbols': [], 'user_mentions': [{'screen_name': 'MMDA', 'name': 'Official MMDA', 'id': 171574926, 'id_str': '171574926', 'indices': [0, 5]}], 'urls': []}, source='Twitter for iPhone', source_url='http://twitter.com/download/iphone', in_reply_to_status_id=None, in_reply_to_status_id_str=None, in_reply_to_user_id=171574926, in_reply_to_user_id_str='171574926', in_reply_to_screen_name='MMDA', geo=None, coordinates=None, place=None, contributors=None, is_quote_status=False, retweet_count=0, favorite_count=0, favorited=False, retweeted=False, lang='tl'), contributors_enabled=False, is_translator=False, is_translation_enabled=False, profile_background_color='F5F8FA', profile_background_image_url=None, profile_background_image_url_https=None, profile_background_tile=False, profile_image_url='http://pbs.twimg.com/profile_images/862580320226353152/FNP_77H6_normal.jpg', profile_image_url_https='https://pbs.twimg.com/profile_images/862580320226353152/FNP_77H6_normal.jpg', profile_banner_url='https://pbs.twimg.com/profile_banners/862578335955550208/1494490191', profile_link_color='1DA1F2', profile_sidebar_border_color='C0DEED', profile_sidebar_fill_color='DDEEF6', profile_text_color='333333', profile_use_background_image=True, has_extended_profile=True, default_profile=True, default_profile_image=False, can_media_tag=True, followed_by=True, following=False, live_following=False, follow_request_sent=False, notifications=False, muting=False, blocking=False, blocked_by=False, translator_type='none'),\n",
       " User(_api=<tweepy.api.API object at 0x000001F3E18C0668>, _json={'id': 54702096, 'id_str': '54702096', 'name': 'imma b. alfon', 'screen_name': 'immaalfon', 'location': 'cebu city,philippines', 'description': 'a wife, a mother, a strong willed woman, a true friend, ready to serve...', 'url': None, 'entities': {'description': {'urls': []}}, 'protected': False, 'followers_count': 41, 'friends_count': 69, 'listed_count': 0, 'created_at': 'Tue Jul 07 22:29:36 +0000 2009', 'favourites_count': 17, 'utc_offset': None, 'time_zone': None, 'geo_enabled': True, 'verified': False, 'statuses_count': 45, 'lang': None, 'status': {'created_at': 'Sun Oct 20 07:52:55 +0000 2019', 'id': 1185826213559853057, 'id_str': '1185826213559853057', 'text': '#NewProfilePic https://t.co/GEZbVkQ8yI', 'truncated': False, 'entities': {'hashtags': [{'text': 'NewProfilePic', 'indices': [0, 14]}], 'symbols': [], 'user_mentions': [], 'urls': [], 'media': [{'id': 1185826198212923394, 'id_str': '1185826198212923394', 'indices': [15, 38], 'media_url': 'http://pbs.twimg.com/media/EHTmpP3VUAId_Sl.jpg', 'media_url_https': 'https://pbs.twimg.com/media/EHTmpP3VUAId_Sl.jpg', 'url': 'https://t.co/GEZbVkQ8yI', 'display_url': 'pic.twitter.com/GEZbVkQ8yI', 'expanded_url': 'https://twitter.com/immaalfon/status/1185826213559853057/photo/1', 'type': 'photo', 'sizes': {'thumb': {'w': 150, 'h': 150, 'resize': 'crop'}, 'large': {'w': 400, 'h': 400, 'resize': 'fit'}, 'small': {'w': 400, 'h': 400, 'resize': 'fit'}, 'medium': {'w': 400, 'h': 400, 'resize': 'fit'}}, 'features': {'large': {'faces': [{'x': 31, 'y': 180, 'h': 162, 'w': 162}]}, 'small': {'faces': [{'x': 31, 'y': 180, 'h': 162, 'w': 162}]}, 'medium': {'faces': [{'x': 31, 'y': 180, 'h': 162, 'w': 162}]}, 'orig': {'faces': [{'x': 31, 'y': 180, 'h': 162, 'w': 162}]}}}]}, 'extended_entities': {'media': [{'id': 1185826198212923394, 'id_str': '1185826198212923394', 'indices': [15, 38], 'media_url': 'http://pbs.twimg.com/media/EHTmpP3VUAId_Sl.jpg', 'media_url_https': 'https://pbs.twimg.com/media/EHTmpP3VUAId_Sl.jpg', 'url': 'https://t.co/GEZbVkQ8yI', 'display_url': 'pic.twitter.com/GEZbVkQ8yI', 'expanded_url': 'https://twitter.com/immaalfon/status/1185826213559853057/photo/1', 'type': 'photo', 'sizes': {'thumb': {'w': 150, 'h': 150, 'resize': 'crop'}, 'large': {'w': 400, 'h': 400, 'resize': 'fit'}, 'small': {'w': 400, 'h': 400, 'resize': 'fit'}, 'medium': {'w': 400, 'h': 400, 'resize': 'fit'}}, 'features': {'large': {'faces': [{'x': 31, 'y': 180, 'h': 162, 'w': 162}]}, 'small': {'faces': [{'x': 31, 'y': 180, 'h': 162, 'w': 162}]}, 'medium': {'faces': [{'x': 31, 'y': 180, 'h': 162, 'w': 162}]}, 'orig': {'faces': [{'x': 31, 'y': 180, 'h': 162, 'w': 162}]}}}]}, 'source': '<a href=\"http://twitter.com/download/iphone\" rel=\"nofollow\">Twitter for iPhone</a>', 'in_reply_to_status_id': None, 'in_reply_to_status_id_str': None, 'in_reply_to_user_id': None, 'in_reply_to_user_id_str': None, 'in_reply_to_screen_name': None, 'geo': None, 'coordinates': None, 'place': None, 'contributors': None, 'is_quote_status': False, 'retweet_count': 0, 'favorite_count': 3, 'favorited': False, 'retweeted': False, 'possibly_sensitive': False, 'lang': 'und'}, 'contributors_enabled': False, 'is_translator': False, 'is_translation_enabled': False, 'profile_background_color': 'ADB9DE', 'profile_background_image_url': 'http://abs.twimg.com/images/themes/theme18/bg.gif', 'profile_background_image_url_https': 'https://abs.twimg.com/images/themes/theme18/bg.gif', 'profile_background_tile': False, 'profile_image_url': 'http://pbs.twimg.com/profile_images/1185826142084689920/UAK6lbr9_normal.jpg', 'profile_image_url_https': 'https://pbs.twimg.com/profile_images/1185826142084689920/UAK6lbr9_normal.jpg', 'profile_banner_url': 'https://pbs.twimg.com/profile_banners/54702096/1465698129', 'profile_link_color': '042985', 'profile_sidebar_border_color': 'F2E195', 'profile_sidebar_fill_color': 'FFF7CC', 'profile_text_color': '0C2E52', 'profile_use_background_image': True, 'has_extended_profile': False, 'default_profile': False, 'default_profile_image': False, 'can_media_tag': True, 'followed_by': True, 'following': False, 'live_following': False, 'follow_request_sent': False, 'notifications': False, 'muting': False, 'blocking': False, 'blocked_by': False, 'translator_type': 'none'}, id=54702096, id_str='54702096', name='imma b. alfon', screen_name='immaalfon', location='cebu city,philippines', description='a wife, a mother, a strong willed woman, a true friend, ready to serve...', url=None, entities={'description': {'urls': []}}, protected=False, followers_count=41, friends_count=69, listed_count=0, created_at=datetime.datetime(2009, 7, 7, 22, 29, 36), favourites_count=17, utc_offset=None, time_zone=None, geo_enabled=True, verified=False, statuses_count=45, lang=None, status=Status(_api=<tweepy.api.API object at 0x000001F3E18C0668>, _json={'created_at': 'Sun Oct 20 07:52:55 +0000 2019', 'id': 1185826213559853057, 'id_str': '1185826213559853057', 'text': '#NewProfilePic https://t.co/GEZbVkQ8yI', 'truncated': False, 'entities': {'hashtags': [{'text': 'NewProfilePic', 'indices': [0, 14]}], 'symbols': [], 'user_mentions': [], 'urls': [], 'media': [{'id': 1185826198212923394, 'id_str': '1185826198212923394', 'indices': [15, 38], 'media_url': 'http://pbs.twimg.com/media/EHTmpP3VUAId_Sl.jpg', 'media_url_https': 'https://pbs.twimg.com/media/EHTmpP3VUAId_Sl.jpg', 'url': 'https://t.co/GEZbVkQ8yI', 'display_url': 'pic.twitter.com/GEZbVkQ8yI', 'expanded_url': 'https://twitter.com/immaalfon/status/1185826213559853057/photo/1', 'type': 'photo', 'sizes': {'thumb': {'w': 150, 'h': 150, 'resize': 'crop'}, 'large': {'w': 400, 'h': 400, 'resize': 'fit'}, 'small': {'w': 400, 'h': 400, 'resize': 'fit'}, 'medium': {'w': 400, 'h': 400, 'resize': 'fit'}}, 'features': {'large': {'faces': [{'x': 31, 'y': 180, 'h': 162, 'w': 162}]}, 'small': {'faces': [{'x': 31, 'y': 180, 'h': 162, 'w': 162}]}, 'medium': {'faces': [{'x': 31, 'y': 180, 'h': 162, 'w': 162}]}, 'orig': {'faces': [{'x': 31, 'y': 180, 'h': 162, 'w': 162}]}}}]}, 'extended_entities': {'media': [{'id': 1185826198212923394, 'id_str': '1185826198212923394', 'indices': [15, 38], 'media_url': 'http://pbs.twimg.com/media/EHTmpP3VUAId_Sl.jpg', 'media_url_https': 'https://pbs.twimg.com/media/EHTmpP3VUAId_Sl.jpg', 'url': 'https://t.co/GEZbVkQ8yI', 'display_url': 'pic.twitter.com/GEZbVkQ8yI', 'expanded_url': 'https://twitter.com/immaalfon/status/1185826213559853057/photo/1', 'type': 'photo', 'sizes': {'thumb': {'w': 150, 'h': 150, 'resize': 'crop'}, 'large': {'w': 400, 'h': 400, 'resize': 'fit'}, 'small': {'w': 400, 'h': 400, 'resize': 'fit'}, 'medium': {'w': 400, 'h': 400, 'resize': 'fit'}}, 'features': {'large': {'faces': [{'x': 31, 'y': 180, 'h': 162, 'w': 162}]}, 'small': {'faces': [{'x': 31, 'y': 180, 'h': 162, 'w': 162}]}, 'medium': {'faces': [{'x': 31, 'y': 180, 'h': 162, 'w': 162}]}, 'orig': {'faces': [{'x': 31, 'y': 180, 'h': 162, 'w': 162}]}}}]}, 'source': '<a href=\"http://twitter.com/download/iphone\" rel=\"nofollow\">Twitter for iPhone</a>', 'in_reply_to_status_id': None, 'in_reply_to_status_id_str': None, 'in_reply_to_user_id': None, 'in_reply_to_user_id_str': None, 'in_reply_to_screen_name': None, 'geo': None, 'coordinates': None, 'place': None, 'contributors': None, 'is_quote_status': False, 'retweet_count': 0, 'favorite_count': 3, 'favorited': False, 'retweeted': False, 'possibly_sensitive': False, 'lang': 'und'}, created_at=datetime.datetime(2019, 10, 20, 7, 52, 55), id=1185826213559853057, id_str='1185826213559853057', text='#NewProfilePic https://t.co/GEZbVkQ8yI', truncated=False, entities={'hashtags': [{'text': 'NewProfilePic', 'indices': [0, 14]}], 'symbols': [], 'user_mentions': [], 'urls': [], 'media': [{'id': 1185826198212923394, 'id_str': '1185826198212923394', 'indices': [15, 38], 'media_url': 'http://pbs.twimg.com/media/EHTmpP3VUAId_Sl.jpg', 'media_url_https': 'https://pbs.twimg.com/media/EHTmpP3VUAId_Sl.jpg', 'url': 'https://t.co/GEZbVkQ8yI', 'display_url': 'pic.twitter.com/GEZbVkQ8yI', 'expanded_url': 'https://twitter.com/immaalfon/status/1185826213559853057/photo/1', 'type': 'photo', 'sizes': {'thumb': {'w': 150, 'h': 150, 'resize': 'crop'}, 'large': {'w': 400, 'h': 400, 'resize': 'fit'}, 'small': {'w': 400, 'h': 400, 'resize': 'fit'}, 'medium': {'w': 400, 'h': 400, 'resize': 'fit'}}, 'features': {'large': {'faces': [{'x': 31, 'y': 180, 'h': 162, 'w': 162}]}, 'small': {'faces': [{'x': 31, 'y': 180, 'h': 162, 'w': 162}]}, 'medium': {'faces': [{'x': 31, 'y': 180, 'h': 162, 'w': 162}]}, 'orig': {'faces': [{'x': 31, 'y': 180, 'h': 162, 'w': 162}]}}}]}, extended_entities={'media': [{'id': 1185826198212923394, 'id_str': '1185826198212923394', 'indices': [15, 38], 'media_url': 'http://pbs.twimg.com/media/EHTmpP3VUAId_Sl.jpg', 'media_url_https': 'https://pbs.twimg.com/media/EHTmpP3VUAId_Sl.jpg', 'url': 'https://t.co/GEZbVkQ8yI', 'display_url': 'pic.twitter.com/GEZbVkQ8yI', 'expanded_url': 'https://twitter.com/immaalfon/status/1185826213559853057/photo/1', 'type': 'photo', 'sizes': {'thumb': {'w': 150, 'h': 150, 'resize': 'crop'}, 'large': {'w': 400, 'h': 400, 'resize': 'fit'}, 'small': {'w': 400, 'h': 400, 'resize': 'fit'}, 'medium': {'w': 400, 'h': 400, 'resize': 'fit'}}, 'features': {'large': {'faces': [{'x': 31, 'y': 180, 'h': 162, 'w': 162}]}, 'small': {'faces': [{'x': 31, 'y': 180, 'h': 162, 'w': 162}]}, 'medium': {'faces': [{'x': 31, 'y': 180, 'h': 162, 'w': 162}]}, 'orig': {'faces': [{'x': 31, 'y': 180, 'h': 162, 'w': 162}]}}}]}, source='Twitter for iPhone', source_url='http://twitter.com/download/iphone', in_reply_to_status_id=None, in_reply_to_status_id_str=None, in_reply_to_user_id=None, in_reply_to_user_id_str=None, in_reply_to_screen_name=None, geo=None, coordinates=None, place=None, contributors=None, is_quote_status=False, retweet_count=0, favorite_count=3, favorited=False, retweeted=False, possibly_sensitive=False, lang='und'), contributors_enabled=False, is_translator=False, is_translation_enabled=False, profile_background_color='ADB9DE', profile_background_image_url='http://abs.twimg.com/images/themes/theme18/bg.gif', profile_background_image_url_https='https://abs.twimg.com/images/themes/theme18/bg.gif', profile_background_tile=False, profile_image_url='http://pbs.twimg.com/profile_images/1185826142084689920/UAK6lbr9_normal.jpg', profile_image_url_https='https://pbs.twimg.com/profile_images/1185826142084689920/UAK6lbr9_normal.jpg', profile_banner_url='https://pbs.twimg.com/profile_banners/54702096/1465698129', profile_link_color='042985', profile_sidebar_border_color='F2E195', profile_sidebar_fill_color='FFF7CC', profile_text_color='0C2E52', profile_use_background_image=True, has_extended_profile=False, default_profile=False, default_profile_image=False, can_media_tag=True, followed_by=True, following=False, live_following=False, follow_request_sent=False, notifications=False, muting=False, blocking=False, blocked_by=False, translator_type='none'),\n",
       " User(_api=<tweepy.api.API object at 0x000001F3E18C0668>, _json={'id': 260810158, 'id_str': '260810158', 'name': '.', 'screen_name': 'dinomacasaet', 'location': 'None. ', 'description': '', 'url': None, 'entities': {'description': {'urls': []}}, 'protected': True, 'followers_count': 104, 'friends_count': 190, 'listed_count': 5, 'created_at': 'Fri Mar 04 17:05:27 +0000 2011', 'favourites_count': 63, 'utc_offset': None, 'time_zone': None, 'geo_enabled': False, 'verified': False, 'statuses_count': 1931, 'lang': None, 'contributors_enabled': False, 'is_translator': False, 'is_translation_enabled': False, 'profile_background_color': 'C0DEED', 'profile_background_image_url': 'http://abs.twimg.com/images/themes/theme1/bg.png', 'profile_background_image_url_https': 'https://abs.twimg.com/images/themes/theme1/bg.png', 'profile_background_tile': False, 'profile_image_url': 'http://pbs.twimg.com/profile_images/651021142929440768/ZnRiJyT0_normal.jpg', 'profile_image_url_https': 'https://pbs.twimg.com/profile_images/651021142929440768/ZnRiJyT0_normal.jpg', 'profile_link_color': '1DA1F2', 'profile_sidebar_border_color': 'C0DEED', 'profile_sidebar_fill_color': 'DDEEF6', 'profile_text_color': '333333', 'profile_use_background_image': True, 'has_extended_profile': False, 'default_profile': True, 'default_profile_image': False, 'can_media_tag': False, 'followed_by': True, 'following': False, 'live_following': False, 'follow_request_sent': False, 'notifications': False, 'muting': False, 'blocking': False, 'blocked_by': False, 'translator_type': 'none'}, id=260810158, id_str='260810158', name='.', screen_name='dinomacasaet', location='None. ', description='', url=None, entities={'description': {'urls': []}}, protected=True, followers_count=104, friends_count=190, listed_count=5, created_at=datetime.datetime(2011, 3, 4, 17, 5, 27), favourites_count=63, utc_offset=None, time_zone=None, geo_enabled=False, verified=False, statuses_count=1931, lang=None, contributors_enabled=False, is_translator=False, is_translation_enabled=False, profile_background_color='C0DEED', profile_background_image_url='http://abs.twimg.com/images/themes/theme1/bg.png', profile_background_image_url_https='https://abs.twimg.com/images/themes/theme1/bg.png', profile_background_tile=False, profile_image_url='http://pbs.twimg.com/profile_images/651021142929440768/ZnRiJyT0_normal.jpg', profile_image_url_https='https://pbs.twimg.com/profile_images/651021142929440768/ZnRiJyT0_normal.jpg', profile_link_color='1DA1F2', profile_sidebar_border_color='C0DEED', profile_sidebar_fill_color='DDEEF6', profile_text_color='333333', profile_use_background_image=True, has_extended_profile=False, default_profile=True, default_profile_image=False, can_media_tag=False, followed_by=True, following=False, live_following=False, follow_request_sent=False, notifications=False, muting=False, blocking=False, blocked_by=False, translator_type='none'),\n",
       " User(_api=<tweepy.api.API object at 0x000001F3E18C0668>, _json={'id': 197026493, 'id_str': '197026493', 'name': 'katrina de paula', 'screen_name': 'katrinadepaula', 'location': '', 'description': '', 'url': None, 'entities': {'description': {'urls': []}}, 'protected': False, 'followers_count': 14, 'friends_count': 25, 'listed_count': 0, 'created_at': 'Thu Sep 30 13:45:51 +0000 2010', 'favourites_count': 0, 'utc_offset': None, 'time_zone': None, 'geo_enabled': False, 'verified': False, 'statuses_count': 4, 'lang': None, 'status': {'created_at': 'Thu Nov 08 14:48:14 +0000 2012', 'id': 266552718179565570, 'id_str': '266552718179565570', 'text': 'http://t.co/m8cutu8W #Hyper2 #10StepProductMarketingPlans', 'truncated': False, 'entities': {'hashtags': [{'text': 'Hyper2', 'indices': [21, 28]}, {'text': '10StepProductMarketingPlans', 'indices': [29, 57]}], 'symbols': [], 'user_mentions': [], 'urls': [{'url': 'http://t.co/m8cutu8W', 'expanded_url': 'http://www.slideshare.net/katrinadepaula/10step-marketing-plan-for-iremit-inc', 'display_url': 'slideshare.net/katrinadepaula…', 'indices': [0, 20]}]}, 'source': '<a href=\"http://twitter.com\" rel=\"nofollow\">Twitter Web Client</a>', 'in_reply_to_status_id': None, 'in_reply_to_status_id_str': None, 'in_reply_to_user_id': None, 'in_reply_to_user_id_str': None, 'in_reply_to_screen_name': None, 'geo': None, 'coordinates': None, 'place': None, 'contributors': None, 'is_quote_status': False, 'retweet_count': 0, 'favorite_count': 0, 'favorited': False, 'retweeted': False, 'possibly_sensitive': False, 'lang': 'und'}, 'contributors_enabled': False, 'is_translator': False, 'is_translation_enabled': False, 'profile_background_color': 'C0DEED', 'profile_background_image_url': 'http://abs.twimg.com/images/themes/theme1/bg.png', 'profile_background_image_url_https': 'https://abs.twimg.com/images/themes/theme1/bg.png', 'profile_background_tile': False, 'profile_image_url': 'http://abs.twimg.com/sticky/default_profile_images/default_profile_normal.png', 'profile_image_url_https': 'https://abs.twimg.com/sticky/default_profile_images/default_profile_normal.png', 'profile_link_color': '1DA1F2', 'profile_sidebar_border_color': 'C0DEED', 'profile_sidebar_fill_color': 'DDEEF6', 'profile_text_color': '333333', 'profile_use_background_image': True, 'has_extended_profile': False, 'default_profile': True, 'default_profile_image': True, 'can_media_tag': True, 'followed_by': True, 'following': True, 'live_following': False, 'follow_request_sent': False, 'notifications': False, 'muting': False, 'blocking': False, 'blocked_by': False, 'translator_type': 'none'}, id=197026493, id_str='197026493', name='katrina de paula', screen_name='katrinadepaula', location='', description='', url=None, entities={'description': {'urls': []}}, protected=False, followers_count=14, friends_count=25, listed_count=0, created_at=datetime.datetime(2010, 9, 30, 13, 45, 51), favourites_count=0, utc_offset=None, time_zone=None, geo_enabled=False, verified=False, statuses_count=4, lang=None, status=Status(_api=<tweepy.api.API object at 0x000001F3E18C0668>, _json={'created_at': 'Thu Nov 08 14:48:14 +0000 2012', 'id': 266552718179565570, 'id_str': '266552718179565570', 'text': 'http://t.co/m8cutu8W #Hyper2 #10StepProductMarketingPlans', 'truncated': False, 'entities': {'hashtags': [{'text': 'Hyper2', 'indices': [21, 28]}, {'text': '10StepProductMarketingPlans', 'indices': [29, 57]}], 'symbols': [], 'user_mentions': [], 'urls': [{'url': 'http://t.co/m8cutu8W', 'expanded_url': 'http://www.slideshare.net/katrinadepaula/10step-marketing-plan-for-iremit-inc', 'display_url': 'slideshare.net/katrinadepaula…', 'indices': [0, 20]}]}, 'source': '<a href=\"http://twitter.com\" rel=\"nofollow\">Twitter Web Client</a>', 'in_reply_to_status_id': None, 'in_reply_to_status_id_str': None, 'in_reply_to_user_id': None, 'in_reply_to_user_id_str': None, 'in_reply_to_screen_name': None, 'geo': None, 'coordinates': None, 'place': None, 'contributors': None, 'is_quote_status': False, 'retweet_count': 0, 'favorite_count': 0, 'favorited': False, 'retweeted': False, 'possibly_sensitive': False, 'lang': 'und'}, created_at=datetime.datetime(2012, 11, 8, 14, 48, 14), id=266552718179565570, id_str='266552718179565570', text='http://t.co/m8cutu8W #Hyper2 #10StepProductMarketingPlans', truncated=False, entities={'hashtags': [{'text': 'Hyper2', 'indices': [21, 28]}, {'text': '10StepProductMarketingPlans', 'indices': [29, 57]}], 'symbols': [], 'user_mentions': [], 'urls': [{'url': 'http://t.co/m8cutu8W', 'expanded_url': 'http://www.slideshare.net/katrinadepaula/10step-marketing-plan-for-iremit-inc', 'display_url': 'slideshare.net/katrinadepaula…', 'indices': [0, 20]}]}, source='Twitter Web Client', source_url='http://twitter.com', in_reply_to_status_id=None, in_reply_to_status_id_str=None, in_reply_to_user_id=None, in_reply_to_user_id_str=None, in_reply_to_screen_name=None, geo=None, coordinates=None, place=None, contributors=None, is_quote_status=False, retweet_count=0, favorite_count=0, favorited=False, retweeted=False, possibly_sensitive=False, lang='und'), contributors_enabled=False, is_translator=False, is_translation_enabled=False, profile_background_color='C0DEED', profile_background_image_url='http://abs.twimg.com/images/themes/theme1/bg.png', profile_background_image_url_https='https://abs.twimg.com/images/themes/theme1/bg.png', profile_background_tile=False, profile_image_url='http://abs.twimg.com/sticky/default_profile_images/default_profile_normal.png', profile_image_url_https='https://abs.twimg.com/sticky/default_profile_images/default_profile_normal.png', profile_link_color='1DA1F2', profile_sidebar_border_color='C0DEED', profile_sidebar_fill_color='DDEEF6', profile_text_color='333333', profile_use_background_image=True, has_extended_profile=False, default_profile=True, default_profile_image=True, can_media_tag=True, followed_by=True, following=True, live_following=False, follow_request_sent=False, notifications=False, muting=False, blocking=False, blocked_by=False, translator_type='none'),\n",
       " User(_api=<tweepy.api.API object at 0x000001F3E18C0668>, _json={'id': 96146999, 'id_str': '96146999', 'name': 'Rein Mesa', 'screen_name': 'reindr0ps', 'location': 'Manila, Philippines', 'description': '', 'url': None, 'entities': {'description': {'urls': []}}, 'protected': False, 'followers_count': 71, 'friends_count': 164, 'listed_count': 1, 'created_at': 'Fri Dec 11 15:28:51 +0000 2009', 'favourites_count': 56, 'utc_offset': None, 'time_zone': None, 'geo_enabled': False, 'verified': False, 'statuses_count': 2264, 'lang': None, 'status': {'created_at': 'Thu Aug 07 09:29:00 +0000 2014', 'id': 497313448607236096, 'id_str': '497313448607236096', 'text': 'Craving for buffalo wings! 😋', 'truncated': False, 'entities': {'hashtags': [], 'symbols': [], 'user_mentions': [], 'urls': []}, 'source': '<a href=\"http://ubersocial.com\" rel=\"nofollow\">UberSocial for Android</a>', 'in_reply_to_status_id': None, 'in_reply_to_status_id_str': None, 'in_reply_to_user_id': None, 'in_reply_to_user_id_str': None, 'in_reply_to_screen_name': None, 'geo': None, 'coordinates': None, 'place': None, 'contributors': None, 'is_quote_status': False, 'retweet_count': 0, 'favorite_count': 0, 'favorited': False, 'retweeted': False, 'lang': 'en'}, 'contributors_enabled': False, 'is_translator': False, 'is_translation_enabled': False, 'profile_background_color': '70436B', 'profile_background_image_url': 'http://abs.twimg.com/images/themes/theme19/bg.gif', 'profile_background_image_url_https': 'https://abs.twimg.com/images/themes/theme19/bg.gif', 'profile_background_tile': True, 'profile_image_url': 'http://pbs.twimg.com/profile_images/491222180877717504/H8vTqudX_normal.jpeg', 'profile_image_url_https': 'https://pbs.twimg.com/profile_images/491222180877717504/H8vTqudX_normal.jpeg', 'profile_banner_url': 'https://pbs.twimg.com/profile_banners/96146999/1388735135', 'profile_link_color': '776F7C', 'profile_sidebar_border_color': 'D1D0A9', 'profile_sidebar_fill_color': 'AFBD9F', 'profile_text_color': '8DAD96', 'profile_use_background_image': True, 'has_extended_profile': False, 'default_profile': False, 'default_profile_image': False, 'can_media_tag': True, 'followed_by': True, 'following': False, 'live_following': False, 'follow_request_sent': False, 'notifications': False, 'muting': False, 'blocking': False, 'blocked_by': False, 'translator_type': 'none'}, id=96146999, id_str='96146999', name='Rein Mesa', screen_name='reindr0ps', location='Manila, Philippines', description='', url=None, entities={'description': {'urls': []}}, protected=False, followers_count=71, friends_count=164, listed_count=1, created_at=datetime.datetime(2009, 12, 11, 15, 28, 51), favourites_count=56, utc_offset=None, time_zone=None, geo_enabled=False, verified=False, statuses_count=2264, lang=None, status=Status(_api=<tweepy.api.API object at 0x000001F3E18C0668>, _json={'created_at': 'Thu Aug 07 09:29:00 +0000 2014', 'id': 497313448607236096, 'id_str': '497313448607236096', 'text': 'Craving for buffalo wings! 😋', 'truncated': False, 'entities': {'hashtags': [], 'symbols': [], 'user_mentions': [], 'urls': []}, 'source': '<a href=\"http://ubersocial.com\" rel=\"nofollow\">UberSocial for Android</a>', 'in_reply_to_status_id': None, 'in_reply_to_status_id_str': None, 'in_reply_to_user_id': None, 'in_reply_to_user_id_str': None, 'in_reply_to_screen_name': None, 'geo': None, 'coordinates': None, 'place': None, 'contributors': None, 'is_quote_status': False, 'retweet_count': 0, 'favorite_count': 0, 'favorited': False, 'retweeted': False, 'lang': 'en'}, created_at=datetime.datetime(2014, 8, 7, 9, 29), id=497313448607236096, id_str='497313448607236096', text='Craving for buffalo wings! 😋', truncated=False, entities={'hashtags': [], 'symbols': [], 'user_mentions': [], 'urls': []}, source='UberSocial for Android', source_url='http://ubersocial.com', in_reply_to_status_id=None, in_reply_to_status_id_str=None, in_reply_to_user_id=None, in_reply_to_user_id_str=None, in_reply_to_screen_name=None, geo=None, coordinates=None, place=None, contributors=None, is_quote_status=False, retweet_count=0, favorite_count=0, favorited=False, retweeted=False, lang='en'), contributors_enabled=False, is_translator=False, is_translation_enabled=False, profile_background_color='70436B', profile_background_image_url='http://abs.twimg.com/images/themes/theme19/bg.gif', profile_background_image_url_https='https://abs.twimg.com/images/themes/theme19/bg.gif', profile_background_tile=True, profile_image_url='http://pbs.twimg.com/profile_images/491222180877717504/H8vTqudX_normal.jpeg', profile_image_url_https='https://pbs.twimg.com/profile_images/491222180877717504/H8vTqudX_normal.jpeg', profile_banner_url='https://pbs.twimg.com/profile_banners/96146999/1388735135', profile_link_color='776F7C', profile_sidebar_border_color='D1D0A9', profile_sidebar_fill_color='AFBD9F', profile_text_color='8DAD96', profile_use_background_image=True, has_extended_profile=False, default_profile=False, default_profile_image=False, can_media_tag=True, followed_by=True, following=False, live_following=False, follow_request_sent=False, notifications=False, muting=False, blocking=False, blocked_by=False, translator_type='none'),\n",
       " User(_api=<tweepy.api.API object at 0x000001F3E18C0668>, _json={'id': 269679754, 'id_str': '269679754', 'name': 'Aileen', 'screen_name': 'aileenkingang', 'location': '', 'description': 'In a relationship with food.', 'url': 'http://t.co/WO9zxxargT', 'entities': {'url': {'urls': [{'url': 'http://t.co/WO9zxxargT', 'expanded_url': 'http://ph.phonebooky.com/blog', 'display_url': 'ph.phonebooky.com/blog', 'indices': [0, 22]}]}, 'description': {'urls': []}}, 'protected': False, 'followers_count': 344, 'friends_count': 330, 'listed_count': 3, 'created_at': 'Mon Mar 21 07:52:45 +0000 2011', 'favourites_count': 2272, 'utc_offset': None, 'time_zone': None, 'geo_enabled': False, 'verified': False, 'statuses_count': 20091, 'lang': None, 'status': {'created_at': 'Sat Apr 27 16:55:14 +0000 2019', 'id': 1122182428934594563, 'id_str': '1122182428934594563', 'text': 'RT @ourdailybread: He has made everything beautiful in its time. Ecclesiastes 3:11', 'truncated': False, 'entities': {'hashtags': [], 'symbols': [], 'user_mentions': [{'screen_name': 'ourdailybread', 'name': 'Our Daily Bread', 'id': 15919653, 'id_str': '15919653', 'indices': [3, 17]}], 'urls': []}, 'source': '<a href=\"http://twitter.com/download/iphone\" rel=\"nofollow\">Twitter for iPhone</a>', 'in_reply_to_status_id': None, 'in_reply_to_status_id_str': None, 'in_reply_to_user_id': None, 'in_reply_to_user_id_str': None, 'in_reply_to_screen_name': None, 'geo': None, 'coordinates': None, 'place': None, 'contributors': None, 'retweeted_status': {'created_at': 'Sat Apr 27 14:55:05 +0000 2019', 'id': 1122152190813114371, 'id_str': '1122152190813114371', 'text': 'He has made everything beautiful in its time. Ecclesiastes 3:11', 'truncated': False, 'entities': {'hashtags': [], 'symbols': [], 'user_mentions': [], 'urls': []}, 'source': '<a href=\"https://www.hootsuite.com\" rel=\"nofollow\">Hootsuite Inc.</a>', 'in_reply_to_status_id': None, 'in_reply_to_status_id_str': None, 'in_reply_to_user_id': None, 'in_reply_to_user_id_str': None, 'in_reply_to_screen_name': None, 'geo': None, 'coordinates': None, 'place': None, 'contributors': None, 'is_quote_status': False, 'retweet_count': 242, 'favorite_count': 675, 'favorited': False, 'retweeted': False, 'lang': 'en'}, 'is_quote_status': False, 'retweet_count': 242, 'favorite_count': 0, 'favorited': False, 'retweeted': False, 'lang': 'en'}, 'contributors_enabled': False, 'is_translator': False, 'is_translation_enabled': False, 'profile_background_color': 'EE1D3D', 'profile_background_image_url': 'http://abs.twimg.com/images/themes/theme5/bg.gif', 'profile_background_image_url_https': 'https://abs.twimg.com/images/themes/theme5/bg.gif', 'profile_background_tile': True, 'profile_image_url': 'http://pbs.twimg.com/profile_images/378800000602873205/fd1f784ba704a5b2a0b893571a58cf41_normal.jpeg', 'profile_image_url_https': 'https://pbs.twimg.com/profile_images/378800000602873205/fd1f784ba704a5b2a0b893571a58cf41_normal.jpeg', 'profile_banner_url': 'https://pbs.twimg.com/profile_banners/269679754/1401980048', 'profile_link_color': 'FC5863', 'profile_sidebar_border_color': '838B24', 'profile_sidebar_fill_color': 'FFDB8F', 'profile_text_color': 'FF968F', 'profile_use_background_image': True, 'has_extended_profile': False, 'default_profile': False, 'default_profile_image': False, 'can_media_tag': True, 'followed_by': True, 'following': False, 'live_following': False, 'follow_request_sent': False, 'notifications': False, 'muting': False, 'blocking': False, 'blocked_by': False, 'translator_type': 'none'}, id=269679754, id_str='269679754', name='Aileen', screen_name='aileenkingang', location='', description='In a relationship with food.', url='http://t.co/WO9zxxargT', entities={'url': {'urls': [{'url': 'http://t.co/WO9zxxargT', 'expanded_url': 'http://ph.phonebooky.com/blog', 'display_url': 'ph.phonebooky.com/blog', 'indices': [0, 22]}]}, 'description': {'urls': []}}, protected=False, followers_count=344, friends_count=330, listed_count=3, created_at=datetime.datetime(2011, 3, 21, 7, 52, 45), favourites_count=2272, utc_offset=None, time_zone=None, geo_enabled=False, verified=False, statuses_count=20091, lang=None, status=Status(_api=<tweepy.api.API object at 0x000001F3E18C0668>, _json={'created_at': 'Sat Apr 27 16:55:14 +0000 2019', 'id': 1122182428934594563, 'id_str': '1122182428934594563', 'text': 'RT @ourdailybread: He has made everything beautiful in its time. Ecclesiastes 3:11', 'truncated': False, 'entities': {'hashtags': [], 'symbols': [], 'user_mentions': [{'screen_name': 'ourdailybread', 'name': 'Our Daily Bread', 'id': 15919653, 'id_str': '15919653', 'indices': [3, 17]}], 'urls': []}, 'source': '<a href=\"http://twitter.com/download/iphone\" rel=\"nofollow\">Twitter for iPhone</a>', 'in_reply_to_status_id': None, 'in_reply_to_status_id_str': None, 'in_reply_to_user_id': None, 'in_reply_to_user_id_str': None, 'in_reply_to_screen_name': None, 'geo': None, 'coordinates': None, 'place': None, 'contributors': None, 'retweeted_status': {'created_at': 'Sat Apr 27 14:55:05 +0000 2019', 'id': 1122152190813114371, 'id_str': '1122152190813114371', 'text': 'He has made everything beautiful in its time. Ecclesiastes 3:11', 'truncated': False, 'entities': {'hashtags': [], 'symbols': [], 'user_mentions': [], 'urls': []}, 'source': '<a href=\"https://www.hootsuite.com\" rel=\"nofollow\">Hootsuite Inc.</a>', 'in_reply_to_status_id': None, 'in_reply_to_status_id_str': None, 'in_reply_to_user_id': None, 'in_reply_to_user_id_str': None, 'in_reply_to_screen_name': None, 'geo': None, 'coordinates': None, 'place': None, 'contributors': None, 'is_quote_status': False, 'retweet_count': 242, 'favorite_count': 675, 'favorited': False, 'retweeted': False, 'lang': 'en'}, 'is_quote_status': False, 'retweet_count': 242, 'favorite_count': 0, 'favorited': False, 'retweeted': False, 'lang': 'en'}, created_at=datetime.datetime(2019, 4, 27, 16, 55, 14), id=1122182428934594563, id_str='1122182428934594563', text='RT @ourdailybread: He has made everything beautiful in its time. Ecclesiastes 3:11', truncated=False, entities={'hashtags': [], 'symbols': [], 'user_mentions': [{'screen_name': 'ourdailybread', 'name': 'Our Daily Bread', 'id': 15919653, 'id_str': '15919653', 'indices': [3, 17]}], 'urls': []}, source='Twitter for iPhone', source_url='http://twitter.com/download/iphone', in_reply_to_status_id=None, in_reply_to_status_id_str=None, in_reply_to_user_id=None, in_reply_to_user_id_str=None, in_reply_to_screen_name=None, geo=None, coordinates=None, place=None, contributors=None, retweeted_status=Status(_api=<tweepy.api.API object at 0x000001F3E18C0668>, _json={'created_at': 'Sat Apr 27 14:55:05 +0000 2019', 'id': 1122152190813114371, 'id_str': '1122152190813114371', 'text': 'He has made everything beautiful in its time. Ecclesiastes 3:11', 'truncated': False, 'entities': {'hashtags': [], 'symbols': [], 'user_mentions': [], 'urls': []}, 'source': '<a href=\"https://www.hootsuite.com\" rel=\"nofollow\">Hootsuite Inc.</a>', 'in_reply_to_status_id': None, 'in_reply_to_status_id_str': None, 'in_reply_to_user_id': None, 'in_reply_to_user_id_str': None, 'in_reply_to_screen_name': None, 'geo': None, 'coordinates': None, 'place': None, 'contributors': None, 'is_quote_status': False, 'retweet_count': 242, 'favorite_count': 675, 'favorited': False, 'retweeted': False, 'lang': 'en'}, created_at=datetime.datetime(2019, 4, 27, 14, 55, 5), id=1122152190813114371, id_str='1122152190813114371', text='He has made everything beautiful in its time. Ecclesiastes 3:11', truncated=False, entities={'hashtags': [], 'symbols': [], 'user_mentions': [], 'urls': []}, source='Hootsuite Inc.', source_url='https://www.hootsuite.com', in_reply_to_status_id=None, in_reply_to_status_id_str=None, in_reply_to_user_id=None, in_reply_to_user_id_str=None, in_reply_to_screen_name=None, geo=None, coordinates=None, place=None, contributors=None, is_quote_status=False, retweet_count=242, favorite_count=675, favorited=False, retweeted=False, lang='en'), is_quote_status=False, retweet_count=242, favorite_count=0, favorited=False, retweeted=False, lang='en'), contributors_enabled=False, is_translator=False, is_translation_enabled=False, profile_background_color='EE1D3D', profile_background_image_url='http://abs.twimg.com/images/themes/theme5/bg.gif', profile_background_image_url_https='https://abs.twimg.com/images/themes/theme5/bg.gif', profile_background_tile=True, profile_image_url='http://pbs.twimg.com/profile_images/378800000602873205/fd1f784ba704a5b2a0b893571a58cf41_normal.jpeg', profile_image_url_https='https://pbs.twimg.com/profile_images/378800000602873205/fd1f784ba704a5b2a0b893571a58cf41_normal.jpeg', profile_banner_url='https://pbs.twimg.com/profile_banners/269679754/1401980048', profile_link_color='FC5863', profile_sidebar_border_color='838B24', profile_sidebar_fill_color='FFDB8F', profile_text_color='FF968F', profile_use_background_image=True, has_extended_profile=False, default_profile=False, default_profile_image=False, can_media_tag=True, followed_by=True, following=False, live_following=False, follow_request_sent=False, notifications=False, muting=False, blocking=False, blocked_by=False, translator_type='none'),\n",
       " User(_api=<tweepy.api.API object at 0x000001F3E18C0668>, _json={'id': 328982786, 'id_str': '328982786', 'name': 'Abet Cea', 'screen_name': 'CEAbet', 'location': 'L.A. Philippines', 'description': \"Throw me aside and i'll leave it alone\", 'url': None, 'entities': {'description': {'urls': []}}, 'protected': False, 'followers_count': 119, 'friends_count': 310, 'listed_count': 2, 'created_at': 'Mon Jul 04 11:00:36 +0000 2011', 'favourites_count': 589, 'utc_offset': None, 'time_zone': None, 'geo_enabled': True, 'verified': False, 'statuses_count': 559, 'lang': None, 'status': {'created_at': 'Thu Oct 17 15:06:09 +0000 2019', 'id': 1184848076986470401, 'id_str': '1184848076986470401', 'text': '@kris_milph Hanggang Naga lang eh haha', 'truncated': False, 'entities': {'hashtags': [], 'symbols': [], 'user_mentions': [{'screen_name': 'kris_milph', 'name': 'kris milan', 'id': 390823146, 'id_str': '390823146', 'indices': [0, 11]}], 'urls': []}, 'source': '<a href=\"http://twitter.com/download/android\" rel=\"nofollow\">Twitter for Android</a>', 'in_reply_to_status_id': 1184823152003575810, 'in_reply_to_status_id_str': '1184823152003575810', 'in_reply_to_user_id': 390823146, 'in_reply_to_user_id_str': '390823146', 'in_reply_to_screen_name': 'kris_milph', 'geo': None, 'coordinates': None, 'place': None, 'contributors': None, 'is_quote_status': False, 'retweet_count': 0, 'favorite_count': 0, 'favorited': False, 'retweeted': False, 'lang': 'tl'}, 'contributors_enabled': False, 'is_translator': False, 'is_translation_enabled': False, 'profile_background_color': '8B542B', 'profile_background_image_url': 'http://abs.twimg.com/images/themes/theme8/bg.gif', 'profile_background_image_url_https': 'https://abs.twimg.com/images/themes/theme8/bg.gif', 'profile_background_tile': True, 'profile_image_url': 'http://pbs.twimg.com/profile_images/1107789742173609985/LcighYPG_normal.jpg', 'profile_image_url_https': 'https://pbs.twimg.com/profile_images/1107789742173609985/LcighYPG_normal.jpg', 'profile_banner_url': 'https://pbs.twimg.com/profile_banners/328982786/1503884295', 'profile_link_color': '9D582E', 'profile_sidebar_border_color': 'FFFFFF', 'profile_sidebar_fill_color': 'EADEAA', 'profile_text_color': '333333', 'profile_use_background_image': True, 'has_extended_profile': False, 'default_profile': False, 'default_profile_image': False, 'can_media_tag': True, 'followed_by': True, 'following': False, 'live_following': False, 'follow_request_sent': False, 'notifications': False, 'muting': False, 'blocking': False, 'blocked_by': False, 'translator_type': 'none'}, id=328982786, id_str='328982786', name='Abet Cea', screen_name='CEAbet', location='L.A. Philippines', description=\"Throw me aside and i'll leave it alone\", url=None, entities={'description': {'urls': []}}, protected=False, followers_count=119, friends_count=310, listed_count=2, created_at=datetime.datetime(2011, 7, 4, 11, 0, 36), favourites_count=589, utc_offset=None, time_zone=None, geo_enabled=True, verified=False, statuses_count=559, lang=None, status=Status(_api=<tweepy.api.API object at 0x000001F3E18C0668>, _json={'created_at': 'Thu Oct 17 15:06:09 +0000 2019', 'id': 1184848076986470401, 'id_str': '1184848076986470401', 'text': '@kris_milph Hanggang Naga lang eh haha', 'truncated': False, 'entities': {'hashtags': [], 'symbols': [], 'user_mentions': [{'screen_name': 'kris_milph', 'name': 'kris milan', 'id': 390823146, 'id_str': '390823146', 'indices': [0, 11]}], 'urls': []}, 'source': '<a href=\"http://twitter.com/download/android\" rel=\"nofollow\">Twitter for Android</a>', 'in_reply_to_status_id': 1184823152003575810, 'in_reply_to_status_id_str': '1184823152003575810', 'in_reply_to_user_id': 390823146, 'in_reply_to_user_id_str': '390823146', 'in_reply_to_screen_name': 'kris_milph', 'geo': None, 'coordinates': None, 'place': None, 'contributors': None, 'is_quote_status': False, 'retweet_count': 0, 'favorite_count': 0, 'favorited': False, 'retweeted': False, 'lang': 'tl'}, created_at=datetime.datetime(2019, 10, 17, 15, 6, 9), id=1184848076986470401, id_str='1184848076986470401', text='@kris_milph Hanggang Naga lang eh haha', truncated=False, entities={'hashtags': [], 'symbols': [], 'user_mentions': [{'screen_name': 'kris_milph', 'name': 'kris milan', 'id': 390823146, 'id_str': '390823146', 'indices': [0, 11]}], 'urls': []}, source='Twitter for Android', source_url='http://twitter.com/download/android', in_reply_to_status_id=1184823152003575810, in_reply_to_status_id_str='1184823152003575810', in_reply_to_user_id=390823146, in_reply_to_user_id_str='390823146', in_reply_to_screen_name='kris_milph', geo=None, coordinates=None, place=None, contributors=None, is_quote_status=False, retweet_count=0, favorite_count=0, favorited=False, retweeted=False, lang='tl'), contributors_enabled=False, is_translator=False, is_translation_enabled=False, profile_background_color='8B542B', profile_background_image_url='http://abs.twimg.com/images/themes/theme8/bg.gif', profile_background_image_url_https='https://abs.twimg.com/images/themes/theme8/bg.gif', profile_background_tile=True, profile_image_url='http://pbs.twimg.com/profile_images/1107789742173609985/LcighYPG_normal.jpg', profile_image_url_https='https://pbs.twimg.com/profile_images/1107789742173609985/LcighYPG_normal.jpg', profile_banner_url='https://pbs.twimg.com/profile_banners/328982786/1503884295', profile_link_color='9D582E', profile_sidebar_border_color='FFFFFF', profile_sidebar_fill_color='EADEAA', profile_text_color='333333', profile_use_background_image=True, has_extended_profile=False, default_profile=False, default_profile_image=False, can_media_tag=True, followed_by=True, following=False, live_following=False, follow_request_sent=False, notifications=False, muting=False, blocking=False, blocked_by=False, translator_type='none'),\n",
       " User(_api=<tweepy.api.API object at 0x000001F3E18C0668>, _json={'id': 59159906, 'id_str': '59159906', 'name': 'kymcuaresma', 'screen_name': 'stormtrooping08', 'location': 'manila', 'description': '', 'url': None, 'entities': {'description': {'urls': []}}, 'protected': False, 'followers_count': 91, 'friends_count': 301, 'listed_count': 2, 'created_at': 'Wed Jul 22 15:47:38 +0000 2009', 'favourites_count': 19, 'utc_offset': None, 'time_zone': None, 'geo_enabled': False, 'verified': False, 'statuses_count': 838, 'lang': None, 'status': {'created_at': 'Sun Jul 17 14:23:21 +0000 2016', 'id': 754682907399114752, 'id_str': '754682907399114752', 'text': 'RT @dost_pagasa: Thunderstorm Advisory No. 6 #NCR_PRSD\\nIssued at: 10:17 PM 17 July 2016\\n\\nThunderstorm is affecting... https://t.co/nnEwOu0I…', 'truncated': False, 'entities': {'hashtags': [{'text': 'NCR_PRSD', 'indices': [45, 54]}], 'symbols': [], 'user_mentions': [{'screen_name': 'dost_pagasa', 'name': 'PAGASA-DOST', 'id': 202890266, 'id_str': '202890266', 'indices': [3, 15]}], 'urls': []}, 'source': '<a href=\"http://twitter.com/download/iphone\" rel=\"nofollow\">Twitter for iPhone</a>', 'in_reply_to_status_id': None, 'in_reply_to_status_id_str': None, 'in_reply_to_user_id': None, 'in_reply_to_user_id_str': None, 'in_reply_to_screen_name': None, 'geo': None, 'coordinates': None, 'place': None, 'contributors': None, 'retweeted_status': {'created_at': 'Sun Jul 17 14:05:44 +0000 2016', 'id': 754678477215846400, 'id_str': '754678477215846400', 'text': 'Thunderstorm Advisory No. 6 #NCR_PRSD\\nIssued at: 10:17 PM 17 July 2016\\n\\nThunderstorm is affecting... https://t.co/nnEwOu0Ipn', 'truncated': False, 'entities': {'hashtags': [{'text': 'NCR_PRSD', 'indices': [28, 37]}], 'symbols': [], 'user_mentions': [], 'urls': [{'url': 'https://t.co/nnEwOu0Ipn', 'expanded_url': 'http://fb.me/7i7pnXKZj', 'display_url': 'fb.me/7i7pnXKZj', 'indices': [101, 124]}]}, 'source': '<a href=\"http://www.facebook.com/twitter\" rel=\"nofollow\">Facebook</a>', 'in_reply_to_status_id': None, 'in_reply_to_status_id_str': None, 'in_reply_to_user_id': None, 'in_reply_to_user_id_str': None, 'in_reply_to_screen_name': None, 'geo': None, 'coordinates': None, 'place': None, 'contributors': None, 'is_quote_status': False, 'retweet_count': 7, 'favorite_count': 16, 'favorited': False, 'retweeted': False, 'possibly_sensitive': False, 'lang': 'en'}, 'is_quote_status': False, 'retweet_count': 7, 'favorite_count': 0, 'favorited': False, 'retweeted': False, 'lang': 'en'}, 'contributors_enabled': False, 'is_translator': False, 'is_translation_enabled': False, 'profile_background_color': '352726', 'profile_background_image_url': 'http://abs.twimg.com/images/themes/theme11/bg.gif', 'profile_background_image_url_https': 'https://abs.twimg.com/images/themes/theme11/bg.gif', 'profile_background_tile': False, 'profile_image_url': 'http://pbs.twimg.com/profile_images/1027008876590202880/Tndy7jSP_normal.jpg', 'profile_image_url_https': 'https://pbs.twimg.com/profile_images/1027008876590202880/Tndy7jSP_normal.jpg', 'profile_banner_url': 'https://pbs.twimg.com/profile_banners/59159906/1493907537', 'profile_link_color': 'D02B55', 'profile_sidebar_border_color': '829D5E', 'profile_sidebar_fill_color': '99CC33', 'profile_text_color': '3E4415', 'profile_use_background_image': True, 'has_extended_profile': False, 'default_profile': False, 'default_profile_image': False, 'can_media_tag': True, 'followed_by': True, 'following': False, 'live_following': False, 'follow_request_sent': False, 'notifications': False, 'muting': False, 'blocking': False, 'blocked_by': False, 'translator_type': 'none'}, id=59159906, id_str='59159906', name='kymcuaresma', screen_name='stormtrooping08', location='manila', description='', url=None, entities={'description': {'urls': []}}, protected=False, followers_count=91, friends_count=301, listed_count=2, created_at=datetime.datetime(2009, 7, 22, 15, 47, 38), favourites_count=19, utc_offset=None, time_zone=None, geo_enabled=False, verified=False, statuses_count=838, lang=None, status=Status(_api=<tweepy.api.API object at 0x000001F3E18C0668>, _json={'created_at': 'Sun Jul 17 14:23:21 +0000 2016', 'id': 754682907399114752, 'id_str': '754682907399114752', 'text': 'RT @dost_pagasa: Thunderstorm Advisory No. 6 #NCR_PRSD\\nIssued at: 10:17 PM 17 July 2016\\n\\nThunderstorm is affecting... https://t.co/nnEwOu0I…', 'truncated': False, 'entities': {'hashtags': [{'text': 'NCR_PRSD', 'indices': [45, 54]}], 'symbols': [], 'user_mentions': [{'screen_name': 'dost_pagasa', 'name': 'PAGASA-DOST', 'id': 202890266, 'id_str': '202890266', 'indices': [3, 15]}], 'urls': []}, 'source': '<a href=\"http://twitter.com/download/iphone\" rel=\"nofollow\">Twitter for iPhone</a>', 'in_reply_to_status_id': None, 'in_reply_to_status_id_str': None, 'in_reply_to_user_id': None, 'in_reply_to_user_id_str': None, 'in_reply_to_screen_name': None, 'geo': None, 'coordinates': None, 'place': None, 'contributors': None, 'retweeted_status': {'created_at': 'Sun Jul 17 14:05:44 +0000 2016', 'id': 754678477215846400, 'id_str': '754678477215846400', 'text': 'Thunderstorm Advisory No. 6 #NCR_PRSD\\nIssued at: 10:17 PM 17 July 2016\\n\\nThunderstorm is affecting... https://t.co/nnEwOu0Ipn', 'truncated': False, 'entities': {'hashtags': [{'text': 'NCR_PRSD', 'indices': [28, 37]}], 'symbols': [], 'user_mentions': [], 'urls': [{'url': 'https://t.co/nnEwOu0Ipn', 'expanded_url': 'http://fb.me/7i7pnXKZj', 'display_url': 'fb.me/7i7pnXKZj', 'indices': [101, 124]}]}, 'source': '<a href=\"http://www.facebook.com/twitter\" rel=\"nofollow\">Facebook</a>', 'in_reply_to_status_id': None, 'in_reply_to_status_id_str': None, 'in_reply_to_user_id': None, 'in_reply_to_user_id_str': None, 'in_reply_to_screen_name': None, 'geo': None, 'coordinates': None, 'place': None, 'contributors': None, 'is_quote_status': False, 'retweet_count': 7, 'favorite_count': 16, 'favorited': False, 'retweeted': False, 'possibly_sensitive': False, 'lang': 'en'}, 'is_quote_status': False, 'retweet_count': 7, 'favorite_count': 0, 'favorited': False, 'retweeted': False, 'lang': 'en'}, created_at=datetime.datetime(2016, 7, 17, 14, 23, 21), id=754682907399114752, id_str='754682907399114752', text='RT @dost_pagasa: Thunderstorm Advisory No. 6 #NCR_PRSD\\nIssued at: 10:17 PM 17 July 2016\\n\\nThunderstorm is affecting... https://t.co/nnEwOu0I…', truncated=False, entities={'hashtags': [{'text': 'NCR_PRSD', 'indices': [45, 54]}], 'symbols': [], 'user_mentions': [{'screen_name': 'dost_pagasa', 'name': 'PAGASA-DOST', 'id': 202890266, 'id_str': '202890266', 'indices': [3, 15]}], 'urls': []}, source='Twitter for iPhone', source_url='http://twitter.com/download/iphone', in_reply_to_status_id=None, in_reply_to_status_id_str=None, in_reply_to_user_id=None, in_reply_to_user_id_str=None, in_reply_to_screen_name=None, geo=None, coordinates=None, place=None, contributors=None, retweeted_status=Status(_api=<tweepy.api.API object at 0x000001F3E18C0668>, _json={'created_at': 'Sun Jul 17 14:05:44 +0000 2016', 'id': 754678477215846400, 'id_str': '754678477215846400', 'text': 'Thunderstorm Advisory No. 6 #NCR_PRSD\\nIssued at: 10:17 PM 17 July 2016\\n\\nThunderstorm is affecting... https://t.co/nnEwOu0Ipn', 'truncated': False, 'entities': {'hashtags': [{'text': 'NCR_PRSD', 'indices': [28, 37]}], 'symbols': [], 'user_mentions': [], 'urls': [{'url': 'https://t.co/nnEwOu0Ipn', 'expanded_url': 'http://fb.me/7i7pnXKZj', 'display_url': 'fb.me/7i7pnXKZj', 'indices': [101, 124]}]}, 'source': '<a href=\"http://www.facebook.com/twitter\" rel=\"nofollow\">Facebook</a>', 'in_reply_to_status_id': None, 'in_reply_to_status_id_str': None, 'in_reply_to_user_id': None, 'in_reply_to_user_id_str': None, 'in_reply_to_screen_name': None, 'geo': None, 'coordinates': None, 'place': None, 'contributors': None, 'is_quote_status': False, 'retweet_count': 7, 'favorite_count': 16, 'favorited': False, 'retweeted': False, 'possibly_sensitive': False, 'lang': 'en'}, created_at=datetime.datetime(2016, 7, 17, 14, 5, 44), id=754678477215846400, id_str='754678477215846400', text='Thunderstorm Advisory No. 6 #NCR_PRSD\\nIssued at: 10:17 PM 17 July 2016\\n\\nThunderstorm is affecting... https://t.co/nnEwOu0Ipn', truncated=False, entities={'hashtags': [{'text': 'NCR_PRSD', 'indices': [28, 37]}], 'symbols': [], 'user_mentions': [], 'urls': [{'url': 'https://t.co/nnEwOu0Ipn', 'expanded_url': 'http://fb.me/7i7pnXKZj', 'display_url': 'fb.me/7i7pnXKZj', 'indices': [101, 124]}]}, source='Facebook', source_url='http://www.facebook.com/twitter', in_reply_to_status_id=None, in_reply_to_status_id_str=None, in_reply_to_user_id=None, in_reply_to_user_id_str=None, in_reply_to_screen_name=None, geo=None, coordinates=None, place=None, contributors=None, is_quote_status=False, retweet_count=7, favorite_count=16, favorited=False, retweeted=False, possibly_sensitive=False, lang='en'), is_quote_status=False, retweet_count=7, favorite_count=0, favorited=False, retweeted=False, lang='en'), contributors_enabled=False, is_translator=False, is_translation_enabled=False, profile_background_color='352726', profile_background_image_url='http://abs.twimg.com/images/themes/theme11/bg.gif', profile_background_image_url_https='https://abs.twimg.com/images/themes/theme11/bg.gif', profile_background_tile=False, profile_image_url='http://pbs.twimg.com/profile_images/1027008876590202880/Tndy7jSP_normal.jpg', profile_image_url_https='https://pbs.twimg.com/profile_images/1027008876590202880/Tndy7jSP_normal.jpg', profile_banner_url='https://pbs.twimg.com/profile_banners/59159906/1493907537', profile_link_color='D02B55', profile_sidebar_border_color='829D5E', profile_sidebar_fill_color='99CC33', profile_text_color='3E4415', profile_use_background_image=True, has_extended_profile=False, default_profile=False, default_profile_image=False, can_media_tag=True, followed_by=True, following=False, live_following=False, follow_request_sent=False, notifications=False, muting=False, blocking=False, blocked_by=False, translator_type='none'),\n",
       " User(_api=<tweepy.api.API object at 0x000001F3E18C0668>, _json={'id': 323788924, 'id_str': '323788924', 'name': 'Tin Sto. Domingo', 'screen_name': 'TinStoDomingo', 'location': 'Manila', 'description': '', 'url': None, 'entities': {'description': {'urls': []}}, 'protected': True, 'followers_count': 76, 'friends_count': 368, 'listed_count': 0, 'created_at': 'Sat Jun 25 12:37:53 +0000 2011', 'favourites_count': 923, 'utc_offset': None, 'time_zone': None, 'geo_enabled': True, 'verified': False, 'statuses_count': 6721, 'lang': None, 'contributors_enabled': False, 'is_translator': False, 'is_translation_enabled': False, 'profile_background_color': '642D8B', 'profile_background_image_url': 'http://abs.twimg.com/images/themes/theme10/bg.gif', 'profile_background_image_url_https': 'https://abs.twimg.com/images/themes/theme10/bg.gif', 'profile_background_tile': True, 'profile_image_url': 'http://pbs.twimg.com/profile_images/1658542072/DSC00761_normal.JPG', 'profile_image_url_https': 'https://pbs.twimg.com/profile_images/1658542072/DSC00761_normal.JPG', 'profile_banner_url': 'https://pbs.twimg.com/profile_banners/323788924/1356261355', 'profile_link_color': 'FF0000', 'profile_sidebar_border_color': '65B0DA', 'profile_sidebar_fill_color': '7AC3EE', 'profile_text_color': '3D1957', 'profile_use_background_image': True, 'has_extended_profile': False, 'default_profile': False, 'default_profile_image': False, 'can_media_tag': True, 'followed_by': True, 'following': False, 'live_following': False, 'follow_request_sent': False, 'notifications': False, 'muting': False, 'blocking': False, 'blocked_by': False, 'translator_type': 'none'}, id=323788924, id_str='323788924', name='Tin Sto. Domingo', screen_name='TinStoDomingo', location='Manila', description='', url=None, entities={'description': {'urls': []}}, protected=True, followers_count=76, friends_count=368, listed_count=0, created_at=datetime.datetime(2011, 6, 25, 12, 37, 53), favourites_count=923, utc_offset=None, time_zone=None, geo_enabled=True, verified=False, statuses_count=6721, lang=None, contributors_enabled=False, is_translator=False, is_translation_enabled=False, profile_background_color='642D8B', profile_background_image_url='http://abs.twimg.com/images/themes/theme10/bg.gif', profile_background_image_url_https='https://abs.twimg.com/images/themes/theme10/bg.gif', profile_background_tile=True, profile_image_url='http://pbs.twimg.com/profile_images/1658542072/DSC00761_normal.JPG', profile_image_url_https='https://pbs.twimg.com/profile_images/1658542072/DSC00761_normal.JPG', profile_banner_url='https://pbs.twimg.com/profile_banners/323788924/1356261355', profile_link_color='FF0000', profile_sidebar_border_color='65B0DA', profile_sidebar_fill_color='7AC3EE', profile_text_color='3D1957', profile_use_background_image=True, has_extended_profile=False, default_profile=False, default_profile_image=False, can_media_tag=True, followed_by=True, following=False, live_following=False, follow_request_sent=False, notifications=False, muting=False, blocking=False, blocked_by=False, translator_type='none'),\n",
       " User(_api=<tweepy.api.API object at 0x000001F3E18C0668>, _json={'id': 231047570, 'id_str': '231047570', 'name': 'Erica Flores', 'screen_name': 'mrs_ericaflores', 'location': '', 'description': 'now a Mrs ❤❤❤', 'url': None, 'entities': {'description': {'urls': []}}, 'protected': False, 'followers_count': 139, 'friends_count': 234, 'listed_count': 2, 'created_at': 'Mon Dec 27 12:56:47 +0000 2010', 'favourites_count': 24, 'utc_offset': None, 'time_zone': None, 'geo_enabled': False, 'verified': False, 'statuses_count': 6949, 'lang': None, 'status': {'created_at': 'Wed Sep 11 23:24:39 +0000 2019', 'id': 1171927566292148224, 'id_str': '1171927566292148224', 'text': '@djmotwister so I work for a cosmetic brand and we develop makeup products —- when choosing lippies sometimes we go… https://t.co/62B03JXa3V', 'truncated': True, 'entities': {'hashtags': [], 'symbols': [], 'user_mentions': [{'screen_name': 'djmotwister', 'name': 'Mo Twister', 'id': 64695259, 'id_str': '64695259', 'indices': [0, 12]}], 'urls': [{'url': 'https://t.co/62B03JXa3V', 'expanded_url': 'https://twitter.com/i/web/status/1171927566292148224', 'display_url': 'twitter.com/i/web/status/1…', 'indices': [117, 140]}]}, 'source': '<a href=\"http://twitter.com/download/iphone\" rel=\"nofollow\">Twitter for iPhone</a>', 'in_reply_to_status_id': None, 'in_reply_to_status_id_str': None, 'in_reply_to_user_id': 64695259, 'in_reply_to_user_id_str': '64695259', 'in_reply_to_screen_name': 'djmotwister', 'geo': None, 'coordinates': None, 'place': None, 'contributors': None, 'is_quote_status': False, 'retweet_count': 0, 'favorite_count': 0, 'favorited': False, 'retweeted': False, 'lang': 'en'}, 'contributors_enabled': False, 'is_translator': False, 'is_translation_enabled': False, 'profile_background_color': 'FF6699', 'profile_background_image_url': 'http://abs.twimg.com/images/themes/theme11/bg.gif', 'profile_background_image_url_https': 'https://abs.twimg.com/images/themes/theme11/bg.gif', 'profile_background_tile': True, 'profile_image_url': 'http://pbs.twimg.com/profile_images/1440696500/320738391_normal.jpg', 'profile_image_url_https': 'https://pbs.twimg.com/profile_images/1440696500/320738391_normal.jpg', 'profile_banner_url': 'https://pbs.twimg.com/profile_banners/231047570/1351740583', 'profile_link_color': 'B40B43', 'profile_sidebar_border_color': 'CC3366', 'profile_sidebar_fill_color': 'E5507E', 'profile_text_color': '362720', 'profile_use_background_image': True, 'has_extended_profile': False, 'default_profile': False, 'default_profile_image': False, 'can_media_tag': False, 'followed_by': True, 'following': False, 'live_following': False, 'follow_request_sent': False, 'notifications': False, 'muting': False, 'blocking': False, 'blocked_by': False, 'translator_type': 'none'}, id=231047570, id_str='231047570', name='Erica Flores', screen_name='mrs_ericaflores', location='', description='now a Mrs ❤❤❤', url=None, entities={'description': {'urls': []}}, protected=False, followers_count=139, friends_count=234, listed_count=2, created_at=datetime.datetime(2010, 12, 27, 12, 56, 47), favourites_count=24, utc_offset=None, time_zone=None, geo_enabled=False, verified=False, statuses_count=6949, lang=None, status=Status(_api=<tweepy.api.API object at 0x000001F3E18C0668>, _json={'created_at': 'Wed Sep 11 23:24:39 +0000 2019', 'id': 1171927566292148224, 'id_str': '1171927566292148224', 'text': '@djmotwister so I work for a cosmetic brand and we develop makeup products —- when choosing lippies sometimes we go… https://t.co/62B03JXa3V', 'truncated': True, 'entities': {'hashtags': [], 'symbols': [], 'user_mentions': [{'screen_name': 'djmotwister', 'name': 'Mo Twister', 'id': 64695259, 'id_str': '64695259', 'indices': [0, 12]}], 'urls': [{'url': 'https://t.co/62B03JXa3V', 'expanded_url': 'https://twitter.com/i/web/status/1171927566292148224', 'display_url': 'twitter.com/i/web/status/1…', 'indices': [117, 140]}]}, 'source': '<a href=\"http://twitter.com/download/iphone\" rel=\"nofollow\">Twitter for iPhone</a>', 'in_reply_to_status_id': None, 'in_reply_to_status_id_str': None, 'in_reply_to_user_id': 64695259, 'in_reply_to_user_id_str': '64695259', 'in_reply_to_screen_name': 'djmotwister', 'geo': None, 'coordinates': None, 'place': None, 'contributors': None, 'is_quote_status': False, 'retweet_count': 0, 'favorite_count': 0, 'favorited': False, 'retweeted': False, 'lang': 'en'}, created_at=datetime.datetime(2019, 9, 11, 23, 24, 39), id=1171927566292148224, id_str='1171927566292148224', text='@djmotwister so I work for a cosmetic brand and we develop makeup products —- when choosing lippies sometimes we go… https://t.co/62B03JXa3V', truncated=True, entities={'hashtags': [], 'symbols': [], 'user_mentions': [{'screen_name': 'djmotwister', 'name': 'Mo Twister', 'id': 64695259, 'id_str': '64695259', 'indices': [0, 12]}], 'urls': [{'url': 'https://t.co/62B03JXa3V', 'expanded_url': 'https://twitter.com/i/web/status/1171927566292148224', 'display_url': 'twitter.com/i/web/status/1…', 'indices': [117, 140]}]}, source='Twitter for iPhone', source_url='http://twitter.com/download/iphone', in_reply_to_status_id=None, in_reply_to_status_id_str=None, in_reply_to_user_id=64695259, in_reply_to_user_id_str='64695259', in_reply_to_screen_name='djmotwister', geo=None, coordinates=None, place=None, contributors=None, is_quote_status=False, retweet_count=0, favorite_count=0, favorited=False, retweeted=False, lang='en'), contributors_enabled=False, is_translator=False, is_translation_enabled=False, profile_background_color='FF6699', profile_background_image_url='http://abs.twimg.com/images/themes/theme11/bg.gif', profile_background_image_url_https='https://abs.twimg.com/images/themes/theme11/bg.gif', profile_background_tile=True, profile_image_url='http://pbs.twimg.com/profile_images/1440696500/320738391_normal.jpg', profile_image_url_https='https://pbs.twimg.com/profile_images/1440696500/320738391_normal.jpg', profile_banner_url='https://pbs.twimg.com/profile_banners/231047570/1351740583', profile_link_color='B40B43', profile_sidebar_border_color='CC3366', profile_sidebar_fill_color='E5507E', profile_text_color='362720', profile_use_background_image=True, has_extended_profile=False, default_profile=False, default_profile_image=False, can_media_tag=False, followed_by=True, following=False, live_following=False, follow_request_sent=False, notifications=False, muting=False, blocking=False, blocked_by=False, translator_type='none'),\n",
       " User(_api=<tweepy.api.API object at 0x000001F3E18C0668>, _json={'id': 45332145, 'id_str': '45332145', 'name': 'Dayen Abarquez', 'screen_name': 'dayenabarquez', 'location': '', 'description': '', 'url': None, 'entities': {'description': {'urls': []}}, 'protected': True, 'followers_count': 81, 'friends_count': 207, 'listed_count': 9, 'created_at': 'Sun Jun 07 12:40:11 +0000 2009', 'favourites_count': 1238, 'utc_offset': None, 'time_zone': None, 'geo_enabled': True, 'verified': False, 'statuses_count': 7721, 'lang': None, 'status': {'created_at': 'Wed Nov 13 00:06:40 +0000 2019', 'id': 1194406186881171456, 'id_str': '1194406186881171456', 'text': '@biloypelaez Yessssss', 'truncated': False, 'entities': {'hashtags': [], 'symbols': [], 'user_mentions': [{'screen_name': 'biloypelaez', 'name': 'Dimple Pelaez', 'id': 45847939, 'id_str': '45847939', 'indices': [0, 12]}], 'urls': []}, 'source': '<a href=\"http://twitter.com/download/iphone\" rel=\"nofollow\">Twitter for iPhone</a>', 'in_reply_to_status_id': 1194185107814305792, 'in_reply_to_status_id_str': '1194185107814305792', 'in_reply_to_user_id': 45847939, 'in_reply_to_user_id_str': '45847939', 'in_reply_to_screen_name': 'biloypelaez', 'geo': None, 'coordinates': None, 'place': None, 'contributors': None, 'is_quote_status': False, 'retweet_count': 0, 'favorite_count': 0, 'favorited': False, 'retweeted': False, 'lang': 'und'}, 'contributors_enabled': False, 'is_translator': False, 'is_translation_enabled': False, 'profile_background_color': 'FF931E', 'profile_background_image_url': 'http://abs.twimg.com/images/themes/theme10/bg.gif', 'profile_background_image_url_https': 'https://abs.twimg.com/images/themes/theme10/bg.gif', 'profile_background_tile': True, 'profile_image_url': 'http://pbs.twimg.com/profile_images/696622384565002241/kf5eukYh_normal.jpg', 'profile_image_url_https': 'https://pbs.twimg.com/profile_images/696622384565002241/kf5eukYh_normal.jpg', 'profile_banner_url': 'https://pbs.twimg.com/profile_banners/45332145/1405673877', 'profile_link_color': 'FF931E', 'profile_sidebar_border_color': 'FFF1AE', 'profile_sidebar_fill_color': 'FFF1AE', 'profile_text_color': 'F13D24', 'profile_use_background_image': True, 'has_extended_profile': False, 'default_profile': False, 'default_profile_image': False, 'can_media_tag': False, 'followed_by': True, 'following': True, 'live_following': False, 'follow_request_sent': False, 'notifications': False, 'muting': False, 'blocking': False, 'blocked_by': False, 'translator_type': 'none'}, id=45332145, id_str='45332145', name='Dayen Abarquez', screen_name='dayenabarquez', location='', description='', url=None, entities={'description': {'urls': []}}, protected=True, followers_count=81, friends_count=207, listed_count=9, created_at=datetime.datetime(2009, 6, 7, 12, 40, 11), favourites_count=1238, utc_offset=None, time_zone=None, geo_enabled=True, verified=False, statuses_count=7721, lang=None, status=Status(_api=<tweepy.api.API object at 0x000001F3E18C0668>, _json={'created_at': 'Wed Nov 13 00:06:40 +0000 2019', 'id': 1194406186881171456, 'id_str': '1194406186881171456', 'text': '@biloypelaez Yessssss', 'truncated': False, 'entities': {'hashtags': [], 'symbols': [], 'user_mentions': [{'screen_name': 'biloypelaez', 'name': 'Dimple Pelaez', 'id': 45847939, 'id_str': '45847939', 'indices': [0, 12]}], 'urls': []}, 'source': '<a href=\"http://twitter.com/download/iphone\" rel=\"nofollow\">Twitter for iPhone</a>', 'in_reply_to_status_id': 1194185107814305792, 'in_reply_to_status_id_str': '1194185107814305792', 'in_reply_to_user_id': 45847939, 'in_reply_to_user_id_str': '45847939', 'in_reply_to_screen_name': 'biloypelaez', 'geo': None, 'coordinates': None, 'place': None, 'contributors': None, 'is_quote_status': False, 'retweet_count': 0, 'favorite_count': 0, 'favorited': False, 'retweeted': False, 'lang': 'und'}, created_at=datetime.datetime(2019, 11, 13, 0, 6, 40), id=1194406186881171456, id_str='1194406186881171456', text='@biloypelaez Yessssss', truncated=False, entities={'hashtags': [], 'symbols': [], 'user_mentions': [{'screen_name': 'biloypelaez', 'name': 'Dimple Pelaez', 'id': 45847939, 'id_str': '45847939', 'indices': [0, 12]}], 'urls': []}, source='Twitter for iPhone', source_url='http://twitter.com/download/iphone', in_reply_to_status_id=1194185107814305792, in_reply_to_status_id_str='1194185107814305792', in_reply_to_user_id=45847939, in_reply_to_user_id_str='45847939', in_reply_to_screen_name='biloypelaez', geo=None, coordinates=None, place=None, contributors=None, is_quote_status=False, retweet_count=0, favorite_count=0, favorited=False, retweeted=False, lang='und'), contributors_enabled=False, is_translator=False, is_translation_enabled=False, profile_background_color='FF931E', profile_background_image_url='http://abs.twimg.com/images/themes/theme10/bg.gif', profile_background_image_url_https='https://abs.twimg.com/images/themes/theme10/bg.gif', profile_background_tile=True, profile_image_url='http://pbs.twimg.com/profile_images/696622384565002241/kf5eukYh_normal.jpg', profile_image_url_https='https://pbs.twimg.com/profile_images/696622384565002241/kf5eukYh_normal.jpg', profile_banner_url='https://pbs.twimg.com/profile_banners/45332145/1405673877', profile_link_color='FF931E', profile_sidebar_border_color='FFF1AE', profile_sidebar_fill_color='FFF1AE', profile_text_color='F13D24', profile_use_background_image=True, has_extended_profile=False, default_profile=False, default_profile_image=False, can_media_tag=False, followed_by=True, following=True, live_following=False, follow_request_sent=False, notifications=False, muting=False, blocking=False, blocked_by=False, translator_type='none')]"
      ]
     },
     "execution_count": 9,
     "metadata": {},
     "output_type": "execute_result"
    }
   ],
   "source": [
    "api.followers()"
   ]
  },
  {
   "cell_type": "markdown",
   "metadata": {
    "colab_type": "text",
    "id": "DcJ-cc6zJhQz"
   },
   "source": [
    "Consult the Tweept and Twitter API documentation. Print a few of the response members below:"
   ]
  },
  {
   "cell_type": "code",
   "execution_count": 11,
   "metadata": {
    "colab": {},
    "colab_type": "code",
    "id": "W_IKqMAQJhQ1"
   },
   "outputs": [
    {
     "ename": "TweepError",
     "evalue": "[{'code': 112, 'message': 'You must specify either a list ID or a slug and owner.'}]",
     "output_type": "error",
     "traceback": [
      "\u001b[1;31m---------------------------------------------------------------------------\u001b[0m",
      "\u001b[1;31mTweepError\u001b[0m                                Traceback (most recent call last)",
      "\u001b[1;32m<ipython-input-11-c1919d58b6c4>\u001b[0m in \u001b[0;36m<module>\u001b[1;34m\u001b[0m\n\u001b[1;32m----> 1\u001b[1;33m \u001b[0mapi\u001b[0m\u001b[1;33m.\u001b[0m\u001b[0mlist_members\u001b[0m\u001b[1;33m(\u001b[0m\u001b[1;33m)\u001b[0m\u001b[1;33m\u001b[0m\u001b[1;33m\u001b[0m\u001b[0m\n\u001b[0m",
      "\u001b[1;32mC:\\ProgramData\\Anaconda3\\lib\\site-packages\\tweepy\\binder.py\u001b[0m in \u001b[0;36m_call\u001b[1;34m(*args, **kwargs)\u001b[0m\n\u001b[0;32m    248\u001b[0m                 \u001b[1;32mreturn\u001b[0m \u001b[0mmethod\u001b[0m\u001b[1;33m\u001b[0m\u001b[1;33m\u001b[0m\u001b[0m\n\u001b[0;32m    249\u001b[0m             \u001b[1;32melse\u001b[0m\u001b[1;33m:\u001b[0m\u001b[1;33m\u001b[0m\u001b[1;33m\u001b[0m\u001b[0m\n\u001b[1;32m--> 250\u001b[1;33m                 \u001b[1;32mreturn\u001b[0m \u001b[0mmethod\u001b[0m\u001b[1;33m.\u001b[0m\u001b[0mexecute\u001b[0m\u001b[1;33m(\u001b[0m\u001b[1;33m)\u001b[0m\u001b[1;33m\u001b[0m\u001b[1;33m\u001b[0m\u001b[0m\n\u001b[0m\u001b[0;32m    251\u001b[0m         \u001b[1;32mfinally\u001b[0m\u001b[1;33m:\u001b[0m\u001b[1;33m\u001b[0m\u001b[1;33m\u001b[0m\u001b[0m\n\u001b[0;32m    252\u001b[0m             \u001b[0mmethod\u001b[0m\u001b[1;33m.\u001b[0m\u001b[0msession\u001b[0m\u001b[1;33m.\u001b[0m\u001b[0mclose\u001b[0m\u001b[1;33m(\u001b[0m\u001b[1;33m)\u001b[0m\u001b[1;33m\u001b[0m\u001b[1;33m\u001b[0m\u001b[0m\n",
      "\u001b[1;32mC:\\ProgramData\\Anaconda3\\lib\\site-packages\\tweepy\\binder.py\u001b[0m in \u001b[0;36mexecute\u001b[1;34m(self)\u001b[0m\n\u001b[0;32m    231\u001b[0m                     \u001b[1;32mraise\u001b[0m \u001b[0mRateLimitError\u001b[0m\u001b[1;33m(\u001b[0m\u001b[0merror_msg\u001b[0m\u001b[1;33m,\u001b[0m \u001b[0mresp\u001b[0m\u001b[1;33m)\u001b[0m\u001b[1;33m\u001b[0m\u001b[1;33m\u001b[0m\u001b[0m\n\u001b[0;32m    232\u001b[0m                 \u001b[1;32melse\u001b[0m\u001b[1;33m:\u001b[0m\u001b[1;33m\u001b[0m\u001b[1;33m\u001b[0m\u001b[0m\n\u001b[1;32m--> 233\u001b[1;33m                     \u001b[1;32mraise\u001b[0m \u001b[0mTweepError\u001b[0m\u001b[1;33m(\u001b[0m\u001b[0merror_msg\u001b[0m\u001b[1;33m,\u001b[0m \u001b[0mresp\u001b[0m\u001b[1;33m,\u001b[0m \u001b[0mapi_code\u001b[0m\u001b[1;33m=\u001b[0m\u001b[0mapi_error_code\u001b[0m\u001b[1;33m)\u001b[0m\u001b[1;33m\u001b[0m\u001b[1;33m\u001b[0m\u001b[0m\n\u001b[0m\u001b[0;32m    234\u001b[0m \u001b[1;33m\u001b[0m\u001b[0m\n\u001b[0;32m    235\u001b[0m             \u001b[1;31m# Parse the response payload\u001b[0m\u001b[1;33m\u001b[0m\u001b[1;33m\u001b[0m\u001b[1;33m\u001b[0m\u001b[0m\n",
      "\u001b[1;31mTweepError\u001b[0m: [{'code': 112, 'message': 'You must specify either a list ID or a slug and owner.'}]"
     ]
    }
   ],
   "source": [
    "# api.list_members()"
   ]
  },
  {
   "cell_type": "markdown",
   "metadata": {
    "colab_type": "text",
    "id": "dLkdLKjLJhQ3"
   },
   "source": [
    "This will fetch recent tweets from accounts you follow:"
   ]
  },
  {
   "cell_type": "code",
   "execution_count": 12,
   "metadata": {
    "colab": {},
    "colab_type": "code",
    "id": "l9y8t3X7JhQ4"
   },
   "outputs": [
    {
     "name": "stdout",
     "output_type": "stream",
     "text": [
      "Russ’ Why Not Zer0.2 SE tonight! #NBAKicks https://t.co/g43qVkSVdL\n",
      "☘️ @MONSTATREZZ in the SVSM home Nike LeBron 15! \n",
      "\n",
      "#NBAKicks #ClipperNation https://t.co/atAorkvLpI\n",
      "PJ Tucker breaks out the “Rice HS” Nike Kobe 3 in LA! \n",
      "\n",
      "#NBAKicks #OneMission https://t.co/0WiZazpyzI\n",
      "/// #NBAKicks for @AustinRivers25! \n",
      "\n",
      "#NBAKicks #OneMission https://t.co/jHIQfO2058\n",
      "PG’s flavors tonight! \n",
      "\n",
      "#NBAKicks #ClipperNation https://t.co/NWsvESvrts\n",
      "Birthday wish granted! \n",
      "\n",
      "#NBAKicks #Celtics https://t.co/NP4uPfFVE6\n",
      "DeMar’s Kobe 4 Protros PE tonight! \n",
      "\n",
      "#NBAKicks #GoSpursGo https://t.co/ADCgBRmpRc\n",
      "Becky Hammon’s 720s in Philadelphia!\n",
      "\n",
      "#NBAKicks #GoSpursGo https://t.co/7n55t5bibq\n",
      "Super clean @KELLYOUBREJR! #NBAKicks https://t.co/Yp0sPue1y1\n",
      "☄️ @DevinBook in the Kobe 4 Protro tonight! #NBAKicks https://t.co/cGwLF1WN7g\n",
      "Tonight’s Nike Zoom Freak 1 for @Giannis_An34! \n",
      "\n",
      "#NBAKicks #FearTheDeer https://t.co/KZYWCXmfTp\n",
      "👀 @KyrieIrving 👀 https://t.co/SfKUQRnSnM\n",
      "🦆 Nike Zoom Freak 1s for @Giannis_An34! #NBAKicks https://t.co/KbPHvWf5Wf\n",
      "🍋 🧊 @jaytatum0 🧊🍋\n",
      "\n",
      "#NBAKicks #Celtics https://t.co/DfYZ0A80pZ\n",
      "Paul George going with mismatched NASA PG 3s!\n",
      "\n",
      "#NBAKicks #ClipperNation https://t.co/IC7gTow8WT\n",
      "Trezz laces up the “Aunt Pearl” Nike KD 5!\n",
      "\n",
      "#NBAKicks #ClipperNation https://t.co/jcxZhmpBIb\n",
      "Kawhi Leonard warms up for tonight’s @LAClippers action on ESPN! \n",
      "\n",
      "#NBAKicks #ClipperNation https://t.co/cB9NQJUhgB\n",
      "👀 @luka7doncic warms up in the Jordan XXX4! \n",
      "\n",
      "#NBAKicks #MFFL https://t.co/6N3lZYCTwP\n",
      "Buddy’s Kobe 5s tonight! \n",
      "\n",
      "#NBAKicks #SacramentoProud https://t.co/TZ3zdtvgaW\n",
      "Tonight’s Nike LeBron 17 for @KingJames!\n",
      "\n",
      "#NBAKicks #LakeShow https://t.co/zVHJUdU5wd\n"
     ]
    }
   ],
   "source": [
    "# Recent tweets from accounts you follow:\n",
    "kicks_tweets = api.user_timeline('NBAKicks')\n",
    "for tweet in kicks_tweets:\n",
    "    print(tweet.text)"
   ]
  },
  {
   "cell_type": "markdown",
   "metadata": {
    "colab_type": "text",
    "id": "k2NpPlOIJhQ6"
   },
   "source": [
    "The request to see your own recent tweets is similar, but uses the `user_timeline` endpoint. Try this below:"
   ]
  },
  {
   "cell_type": "code",
   "execution_count": 17,
   "metadata": {
    "colab": {},
    "colab_type": "code",
    "id": "QMlhdx5NJhQ6"
   },
   "outputs": [
    {
     "name": "stdout",
     "output_type": "stream",
     "text": [
      "Russ’ Why Not Zer0.2 SE tonight! #NBAKicks https://t.co/g43qVkSVdL\n",
      "2019-11-23 04:24:55\n",
      "☘️ @MONSTATREZZ in the SVSM home Nike LeBron 15! \n",
      "\n",
      "#NBAKicks #ClipperNation https://t.co/atAorkvLpI\n",
      "2019-11-23 03:56:58\n",
      "PJ Tucker breaks out the “Rice HS” Nike Kobe 3 in LA! \n",
      "\n",
      "#NBAKicks #OneMission https://t.co/0WiZazpyzI\n",
      "2019-11-23 02:48:10\n",
      "/// #NBAKicks for @AustinRivers25! \n",
      "\n",
      "#NBAKicks #OneMission https://t.co/jHIQfO2058\n",
      "2019-11-23 02:43:47\n",
      "PG’s flavors tonight! \n",
      "\n",
      "#NBAKicks #ClipperNation https://t.co/NWsvESvrts\n",
      "2019-11-23 02:42:23\n",
      "Birthday wish granted! \n",
      "\n",
      "#NBAKicks #Celtics https://t.co/NP4uPfFVE6\n",
      "2019-11-23 02:01:02\n",
      "DeMar’s Kobe 4 Protros PE tonight! \n",
      "\n",
      "#NBAKicks #GoSpursGo https://t.co/ADCgBRmpRc\n",
      "2019-11-23 00:23:59\n",
      "Becky Hammon’s 720s in Philadelphia!\n",
      "\n",
      "#NBAKicks #GoSpursGo https://t.co/7n55t5bibq\n",
      "2019-11-23 00:21:59\n",
      "Super clean @KELLYOUBREJR! #NBAKicks https://t.co/Yp0sPue1y1\n",
      "2019-11-22 06:21:46\n",
      "☄️ @DevinBook in the Kobe 4 Protro tonight! #NBAKicks https://t.co/cGwLF1WN7g\n",
      "2019-11-22 03:11:34\n",
      "Tonight’s Nike Zoom Freak 1 for @Giannis_An34! \n",
      "\n",
      "#NBAKicks #FearTheDeer https://t.co/KZYWCXmfTp\n",
      "2019-11-21 23:22:41\n",
      "👀 @KyrieIrving 👀 https://t.co/SfKUQRnSnM\n",
      "2019-11-21 05:07:59\n",
      "🦆 Nike Zoom Freak 1s for @Giannis_An34! #NBAKicks https://t.co/KbPHvWf5Wf\n",
      "2019-11-21 03:44:31\n",
      "🍋 🧊 @jaytatum0 🧊🍋\n",
      "\n",
      "#NBAKicks #Celtics https://t.co/DfYZ0A80pZ\n",
      "2019-11-21 03:17:22\n",
      "Paul George going with mismatched NASA PG 3s!\n",
      "\n",
      "#NBAKicks #ClipperNation https://t.co/IC7gTow8WT\n",
      "2019-11-21 02:38:37\n",
      "Trezz laces up the “Aunt Pearl” Nike KD 5!\n",
      "\n",
      "#NBAKicks #ClipperNation https://t.co/jcxZhmpBIb\n",
      "2019-11-21 02:15:12\n",
      "Kawhi Leonard warms up for tonight’s @LAClippers action on ESPN! \n",
      "\n",
      "#NBAKicks #ClipperNation https://t.co/cB9NQJUhgB\n",
      "2019-11-21 01:31:21\n",
      "👀 @luka7doncic warms up in the Jordan XXX4! \n",
      "\n",
      "#NBAKicks #MFFL https://t.co/6N3lZYCTwP\n",
      "2019-11-21 00:06:42\n",
      "Buddy’s Kobe 5s tonight! \n",
      "\n",
      "#NBAKicks #SacramentoProud https://t.co/TZ3zdtvgaW\n",
      "2019-11-20 04:37:46\n",
      "Tonight’s Nike LeBron 17 for @KingJames!\n",
      "\n",
      "#NBAKicks #LakeShow https://t.co/zVHJUdU5wd\n",
      "2019-11-20 04:07:22\n"
     ]
    }
   ],
   "source": [
    "# Recent tweets from accounts you follow:\n",
    "kicks_tweets = api.user_timeline('NBAKicks')\n",
    "for tweet in kicks_tweets:\n",
    "    print(tweet.text)\n",
    "    print(tweet.created_at)"
   ]
  },
  {
   "cell_type": "markdown",
   "metadata": {
    "colab_type": "text",
    "id": "qY7oM-lJJhQ8"
   },
   "source": [
    "Now, instead of printing the text of each tweet, print the `created_at` and `id_str` methods:"
   ]
  },
  {
   "cell_type": "code",
   "execution_count": 18,
   "metadata": {
    "colab": {},
    "colab_type": "code",
    "id": "aUOlNdG8JhQ9"
   },
   "outputs": [
    {
     "name": "stdout",
     "output_type": "stream",
     "text": [
      "Russ’ Why Not Zer0.2 SE tonight! #NBAKicks https://t.co/g43qVkSVdL\n",
      "2019-11-23 04:24:55\n",
      "1198095056772554752\n",
      "☘️ @MONSTATREZZ in the SVSM home Nike LeBron 15! \n",
      "\n",
      "#NBAKicks #ClipperNation https://t.co/atAorkvLpI\n",
      "2019-11-23 03:56:58\n",
      "1198088021863624705\n",
      "PJ Tucker breaks out the “Rice HS” Nike Kobe 3 in LA! \n",
      "\n",
      "#NBAKicks #OneMission https://t.co/0WiZazpyzI\n",
      "2019-11-23 02:48:10\n",
      "1198070709961904129\n",
      "/// #NBAKicks for @AustinRivers25! \n",
      "\n",
      "#NBAKicks #OneMission https://t.co/jHIQfO2058\n",
      "2019-11-23 02:43:47\n",
      "1198069606398611456\n",
      "PG’s flavors tonight! \n",
      "\n",
      "#NBAKicks #ClipperNation https://t.co/NWsvESvrts\n",
      "2019-11-23 02:42:23\n",
      "1198069251388559360\n",
      "Birthday wish granted! \n",
      "\n",
      "#NBAKicks #Celtics https://t.co/NP4uPfFVE6\n",
      "2019-11-23 02:01:02\n",
      "1198058844917657601\n",
      "DeMar’s Kobe 4 Protros PE tonight! \n",
      "\n",
      "#NBAKicks #GoSpursGo https://t.co/ADCgBRmpRc\n",
      "2019-11-23 00:23:59\n",
      "1198034423536443392\n",
      "Becky Hammon’s 720s in Philadelphia!\n",
      "\n",
      "#NBAKicks #GoSpursGo https://t.co/7n55t5bibq\n",
      "2019-11-23 00:21:59\n",
      "1198033918529638400\n",
      "Super clean @KELLYOUBREJR! #NBAKicks https://t.co/Yp0sPue1y1\n",
      "2019-11-22 06:21:46\n",
      "1197762075667267584\n",
      "☄️ @DevinBook in the Kobe 4 Protro tonight! #NBAKicks https://t.co/cGwLF1WN7g\n",
      "2019-11-22 03:11:34\n",
      "1197714207254306816\n",
      "Tonight’s Nike Zoom Freak 1 for @Giannis_An34! \n",
      "\n",
      "#NBAKicks #FearTheDeer https://t.co/KZYWCXmfTp\n",
      "2019-11-21 23:22:41\n",
      "1197656607846387712\n",
      "👀 @KyrieIrving 👀 https://t.co/SfKUQRnSnM\n",
      "2019-11-21 05:07:59\n",
      "1197381118804156417\n",
      "🦆 Nike Zoom Freak 1s for @Giannis_An34! #NBAKicks https://t.co/KbPHvWf5Wf\n",
      "2019-11-21 03:44:31\n",
      "1197360113029267456\n",
      "🍋 🧊 @jaytatum0 🧊🍋\n",
      "\n",
      "#NBAKicks #Celtics https://t.co/DfYZ0A80pZ\n",
      "2019-11-21 03:17:22\n",
      "1197353278842867712\n",
      "Paul George going with mismatched NASA PG 3s!\n",
      "\n",
      "#NBAKicks #ClipperNation https://t.co/IC7gTow8WT\n",
      "2019-11-21 02:38:37\n",
      "1197343528277311488\n",
      "Trezz laces up the “Aunt Pearl” Nike KD 5!\n",
      "\n",
      "#NBAKicks #ClipperNation https://t.co/jcxZhmpBIb\n",
      "2019-11-21 02:15:12\n",
      "1197337634462257153\n",
      "Kawhi Leonard warms up for tonight’s @LAClippers action on ESPN! \n",
      "\n",
      "#NBAKicks #ClipperNation https://t.co/cB9NQJUhgB\n",
      "2019-11-21 01:31:21\n",
      "1197326602503249920\n",
      "👀 @luka7doncic warms up in the Jordan XXX4! \n",
      "\n",
      "#NBAKicks #MFFL https://t.co/6N3lZYCTwP\n",
      "2019-11-21 00:06:42\n",
      "1197305295736725504\n",
      "Buddy’s Kobe 5s tonight! \n",
      "\n",
      "#NBAKicks #SacramentoProud https://t.co/TZ3zdtvgaW\n",
      "2019-11-20 04:37:46\n",
      "1197011124169740288\n",
      "Tonight’s Nike LeBron 17 for @KingJames!\n",
      "\n",
      "#NBAKicks #LakeShow https://t.co/zVHJUdU5wd\n",
      "2019-11-20 04:07:22\n",
      "1197003474614964224\n"
     ]
    }
   ],
   "source": [
    "for tweet in kicks_tweets:\n",
    "    print(tweet.text)\n",
    "    print(tweet.created_at)\n",
    "    print(tweet.id_str)"
   ]
  },
  {
   "cell_type": "markdown",
   "metadata": {
    "colab_type": "text",
    "id": "3PibchrmJhQ-"
   },
   "source": [
    "You can create a tweet as follows:"
   ]
  },
  {
   "cell_type": "code",
   "execution_count": 19,
   "metadata": {
    "colab": {},
    "colab_type": "code",
    "id": "IwzTjf1gJhQ_"
   },
   "outputs": [],
   "source": [
    "# create a tweet:\n",
    "tweet = api.update_status('Test: Made with Tweepy')"
   ]
  },
  {
   "cell_type": "markdown",
   "metadata": {
    "colab_type": "text",
    "id": "TtlXvbjoJhRB"
   },
   "source": [
    "(Nb. Don't abuse this feature! If you try to generate a zillion tweets in a loop, Twitter will ban youur account.)"
   ]
  },
  {
   "cell_type": "markdown",
   "metadata": {
    "colab_type": "text",
    "id": "awUIiruTJhRB"
   },
   "source": [
    "Tweets can be deleted by reference to their `id_str` attribute:"
   ]
  },
  {
   "cell_type": "code",
   "execution_count": 20,
   "metadata": {
    "colab": {},
    "colab_type": "code",
    "id": "tKPSCOEBJhRC"
   },
   "outputs": [],
   "source": [
    "# delete a tweet:\n",
    "status = api.destroy_status(tweet.id_str)"
   ]
  },
  {
   "cell_type": "markdown",
   "metadata": {
    "colab_type": "text",
    "id": "hEt9NWJBJhRE"
   },
   "source": [
    "You can follow a Tweeter:"
   ]
  },
  {
   "cell_type": "code",
   "execution_count": 21,
   "metadata": {
    "colab": {},
    "colab_type": "code",
    "id": "CDWxR8wOJhRF"
   },
   "outputs": [
    {
     "data": {
      "text/plain": [
       "User(_api=<tweepy.api.API object at 0x000001F3E18C0668>, _json={'id': 1054402758412062721, 'id_str': '1054402758412062721', 'name': 'SLAM Kicks', 'screen_name': 'SLAMKicks', 'location': 'New York, NY', 'description': 'Sneakers by @slamonline, The Basketball Bible | KICKS Est. 1999', 'url': None, 'entities': {'description': {'urls': []}}, 'protected': False, 'followers_count': 51349, 'friends_count': 124, 'listed_count': 153, 'created_at': 'Mon Oct 22 16:03:02 +0000 2018', 'favourites_count': 97, 'utc_offset': None, 'time_zone': None, 'geo_enabled': True, 'verified': False, 'statuses_count': 2594, 'lang': None, 'status': {'created_at': 'Sat Nov 23 04:12:01 +0000 2019', 'id': 1198091810817658880, 'id_str': '1198091810817658880', 'text': 'What you know bout the Kobe 3??? \\n\\nPJ Tucker brought em out in the “Rice” colorway. https://t.co/SP9cfjUasJ', 'truncated': False, 'entities': {'hashtags': [], 'symbols': [], 'user_mentions': [], 'urls': [], 'media': [{'id': 1198091804664614913, 'id_str': '1198091804664614913', 'indices': [84, 107], 'media_url': 'http://pbs.twimg.com/media/EKB6JglXUAEvfD5.jpg', 'media_url_https': 'https://pbs.twimg.com/media/EKB6JglXUAEvfD5.jpg', 'url': 'https://t.co/SP9cfjUasJ', 'display_url': 'pic.twitter.com/SP9cfjUasJ', 'expanded_url': 'https://twitter.com/SLAMKicks/status/1198091810817658880/photo/1', 'type': 'photo', 'sizes': {'thumb': {'w': 150, 'h': 150, 'resize': 'crop'}, 'large': {'w': 2048, 'h': 1364, 'resize': 'fit'}, 'small': {'w': 680, 'h': 453, 'resize': 'fit'}, 'medium': {'w': 1200, 'h': 799, 'resize': 'fit'}}, 'features': {'large': {'faces': [{'x': 926, 'y': 570, 'h': 150, 'w': 150}]}, 'small': {'faces': [{'x': 307, 'y': 189, 'h': 49, 'w': 49}]}, 'medium': {'faces': [{'x': 542, 'y': 333, 'h': 87, 'w': 87}]}, 'orig': {'faces': [{'x': 926, 'y': 570, 'h': 150, 'w': 150}]}}}]}, 'extended_entities': {'media': [{'id': 1198091804664614913, 'id_str': '1198091804664614913', 'indices': [84, 107], 'media_url': 'http://pbs.twimg.com/media/EKB6JglXUAEvfD5.jpg', 'media_url_https': 'https://pbs.twimg.com/media/EKB6JglXUAEvfD5.jpg', 'url': 'https://t.co/SP9cfjUasJ', 'display_url': 'pic.twitter.com/SP9cfjUasJ', 'expanded_url': 'https://twitter.com/SLAMKicks/status/1198091810817658880/photo/1', 'type': 'photo', 'sizes': {'thumb': {'w': 150, 'h': 150, 'resize': 'crop'}, 'large': {'w': 2048, 'h': 1364, 'resize': 'fit'}, 'small': {'w': 680, 'h': 453, 'resize': 'fit'}, 'medium': {'w': 1200, 'h': 799, 'resize': 'fit'}}, 'features': {'large': {'faces': [{'x': 926, 'y': 570, 'h': 150, 'w': 150}]}, 'small': {'faces': [{'x': 307, 'y': 189, 'h': 49, 'w': 49}]}, 'medium': {'faces': [{'x': 542, 'y': 333, 'h': 87, 'w': 87}]}, 'orig': {'faces': [{'x': 926, 'y': 570, 'h': 150, 'w': 150}]}}}]}, 'source': '<a href=\"http://twitter.com/download/iphone\" rel=\"nofollow\">Twitter for iPhone</a>', 'in_reply_to_status_id': None, 'in_reply_to_status_id_str': None, 'in_reply_to_user_id': None, 'in_reply_to_user_id_str': None, 'in_reply_to_screen_name': None, 'geo': None, 'coordinates': None, 'place': None, 'contributors': None, 'is_quote_status': False, 'retweet_count': 33, 'favorite_count': 214, 'favorited': False, 'retweeted': False, 'possibly_sensitive': False, 'lang': 'en'}, 'contributors_enabled': False, 'is_translator': False, 'is_translation_enabled': False, 'profile_background_color': 'F5F8FA', 'profile_background_image_url': None, 'profile_background_image_url_https': None, 'profile_background_tile': False, 'profile_image_url': 'http://pbs.twimg.com/profile_images/1055118053162266624/bA2g9HHh_normal.jpg', 'profile_image_url_https': 'https://pbs.twimg.com/profile_images/1055118053162266624/bA2g9HHh_normal.jpg', 'profile_banner_url': 'https://pbs.twimg.com/profile_banners/1054402758412062721/1540400043', 'profile_link_color': '1DA1F2', 'profile_sidebar_border_color': 'C0DEED', 'profile_sidebar_fill_color': 'DDEEF6', 'profile_text_color': '333333', 'profile_use_background_image': True, 'has_extended_profile': True, 'default_profile': True, 'default_profile_image': False, 'can_media_tag': True, 'followed_by': False, 'following': False, 'follow_request_sent': False, 'notifications': False, 'muting': False, 'translator_type': 'none'}, id=1054402758412062721, id_str='1054402758412062721', name='SLAM Kicks', screen_name='SLAMKicks', location='New York, NY', description='Sneakers by @slamonline, The Basketball Bible | KICKS Est. 1999', url=None, entities={'description': {'urls': []}}, protected=False, followers_count=51349, friends_count=124, listed_count=153, created_at=datetime.datetime(2018, 10, 22, 16, 3, 2), favourites_count=97, utc_offset=None, time_zone=None, geo_enabled=True, verified=False, statuses_count=2594, lang=None, status=Status(_api=<tweepy.api.API object at 0x000001F3E18C0668>, _json={'created_at': 'Sat Nov 23 04:12:01 +0000 2019', 'id': 1198091810817658880, 'id_str': '1198091810817658880', 'text': 'What you know bout the Kobe 3??? \\n\\nPJ Tucker brought em out in the “Rice” colorway. https://t.co/SP9cfjUasJ', 'truncated': False, 'entities': {'hashtags': [], 'symbols': [], 'user_mentions': [], 'urls': [], 'media': [{'id': 1198091804664614913, 'id_str': '1198091804664614913', 'indices': [84, 107], 'media_url': 'http://pbs.twimg.com/media/EKB6JglXUAEvfD5.jpg', 'media_url_https': 'https://pbs.twimg.com/media/EKB6JglXUAEvfD5.jpg', 'url': 'https://t.co/SP9cfjUasJ', 'display_url': 'pic.twitter.com/SP9cfjUasJ', 'expanded_url': 'https://twitter.com/SLAMKicks/status/1198091810817658880/photo/1', 'type': 'photo', 'sizes': {'thumb': {'w': 150, 'h': 150, 'resize': 'crop'}, 'large': {'w': 2048, 'h': 1364, 'resize': 'fit'}, 'small': {'w': 680, 'h': 453, 'resize': 'fit'}, 'medium': {'w': 1200, 'h': 799, 'resize': 'fit'}}, 'features': {'large': {'faces': [{'x': 926, 'y': 570, 'h': 150, 'w': 150}]}, 'small': {'faces': [{'x': 307, 'y': 189, 'h': 49, 'w': 49}]}, 'medium': {'faces': [{'x': 542, 'y': 333, 'h': 87, 'w': 87}]}, 'orig': {'faces': [{'x': 926, 'y': 570, 'h': 150, 'w': 150}]}}}]}, 'extended_entities': {'media': [{'id': 1198091804664614913, 'id_str': '1198091804664614913', 'indices': [84, 107], 'media_url': 'http://pbs.twimg.com/media/EKB6JglXUAEvfD5.jpg', 'media_url_https': 'https://pbs.twimg.com/media/EKB6JglXUAEvfD5.jpg', 'url': 'https://t.co/SP9cfjUasJ', 'display_url': 'pic.twitter.com/SP9cfjUasJ', 'expanded_url': 'https://twitter.com/SLAMKicks/status/1198091810817658880/photo/1', 'type': 'photo', 'sizes': {'thumb': {'w': 150, 'h': 150, 'resize': 'crop'}, 'large': {'w': 2048, 'h': 1364, 'resize': 'fit'}, 'small': {'w': 680, 'h': 453, 'resize': 'fit'}, 'medium': {'w': 1200, 'h': 799, 'resize': 'fit'}}, 'features': {'large': {'faces': [{'x': 926, 'y': 570, 'h': 150, 'w': 150}]}, 'small': {'faces': [{'x': 307, 'y': 189, 'h': 49, 'w': 49}]}, 'medium': {'faces': [{'x': 542, 'y': 333, 'h': 87, 'w': 87}]}, 'orig': {'faces': [{'x': 926, 'y': 570, 'h': 150, 'w': 150}]}}}]}, 'source': '<a href=\"http://twitter.com/download/iphone\" rel=\"nofollow\">Twitter for iPhone</a>', 'in_reply_to_status_id': None, 'in_reply_to_status_id_str': None, 'in_reply_to_user_id': None, 'in_reply_to_user_id_str': None, 'in_reply_to_screen_name': None, 'geo': None, 'coordinates': None, 'place': None, 'contributors': None, 'is_quote_status': False, 'retweet_count': 33, 'favorite_count': 214, 'favorited': False, 'retweeted': False, 'possibly_sensitive': False, 'lang': 'en'}, created_at=datetime.datetime(2019, 11, 23, 4, 12, 1), id=1198091810817658880, id_str='1198091810817658880', text='What you know bout the Kobe 3??? \\n\\nPJ Tucker brought em out in the “Rice” colorway. https://t.co/SP9cfjUasJ', truncated=False, entities={'hashtags': [], 'symbols': [], 'user_mentions': [], 'urls': [], 'media': [{'id': 1198091804664614913, 'id_str': '1198091804664614913', 'indices': [84, 107], 'media_url': 'http://pbs.twimg.com/media/EKB6JglXUAEvfD5.jpg', 'media_url_https': 'https://pbs.twimg.com/media/EKB6JglXUAEvfD5.jpg', 'url': 'https://t.co/SP9cfjUasJ', 'display_url': 'pic.twitter.com/SP9cfjUasJ', 'expanded_url': 'https://twitter.com/SLAMKicks/status/1198091810817658880/photo/1', 'type': 'photo', 'sizes': {'thumb': {'w': 150, 'h': 150, 'resize': 'crop'}, 'large': {'w': 2048, 'h': 1364, 'resize': 'fit'}, 'small': {'w': 680, 'h': 453, 'resize': 'fit'}, 'medium': {'w': 1200, 'h': 799, 'resize': 'fit'}}, 'features': {'large': {'faces': [{'x': 926, 'y': 570, 'h': 150, 'w': 150}]}, 'small': {'faces': [{'x': 307, 'y': 189, 'h': 49, 'w': 49}]}, 'medium': {'faces': [{'x': 542, 'y': 333, 'h': 87, 'w': 87}]}, 'orig': {'faces': [{'x': 926, 'y': 570, 'h': 150, 'w': 150}]}}}]}, extended_entities={'media': [{'id': 1198091804664614913, 'id_str': '1198091804664614913', 'indices': [84, 107], 'media_url': 'http://pbs.twimg.com/media/EKB6JglXUAEvfD5.jpg', 'media_url_https': 'https://pbs.twimg.com/media/EKB6JglXUAEvfD5.jpg', 'url': 'https://t.co/SP9cfjUasJ', 'display_url': 'pic.twitter.com/SP9cfjUasJ', 'expanded_url': 'https://twitter.com/SLAMKicks/status/1198091810817658880/photo/1', 'type': 'photo', 'sizes': {'thumb': {'w': 150, 'h': 150, 'resize': 'crop'}, 'large': {'w': 2048, 'h': 1364, 'resize': 'fit'}, 'small': {'w': 680, 'h': 453, 'resize': 'fit'}, 'medium': {'w': 1200, 'h': 799, 'resize': 'fit'}}, 'features': {'large': {'faces': [{'x': 926, 'y': 570, 'h': 150, 'w': 150}]}, 'small': {'faces': [{'x': 307, 'y': 189, 'h': 49, 'w': 49}]}, 'medium': {'faces': [{'x': 542, 'y': 333, 'h': 87, 'w': 87}]}, 'orig': {'faces': [{'x': 926, 'y': 570, 'h': 150, 'w': 150}]}}}]}, source='Twitter for iPhone', source_url='http://twitter.com/download/iphone', in_reply_to_status_id=None, in_reply_to_status_id_str=None, in_reply_to_user_id=None, in_reply_to_user_id_str=None, in_reply_to_screen_name=None, geo=None, coordinates=None, place=None, contributors=None, is_quote_status=False, retweet_count=33, favorite_count=214, favorited=False, retweeted=False, possibly_sensitive=False, lang='en'), contributors_enabled=False, is_translator=False, is_translation_enabled=False, profile_background_color='F5F8FA', profile_background_image_url=None, profile_background_image_url_https=None, profile_background_tile=False, profile_image_url='http://pbs.twimg.com/profile_images/1055118053162266624/bA2g9HHh_normal.jpg', profile_image_url_https='https://pbs.twimg.com/profile_images/1055118053162266624/bA2g9HHh_normal.jpg', profile_banner_url='https://pbs.twimg.com/profile_banners/1054402758412062721/1540400043', profile_link_color='1DA1F2', profile_sidebar_border_color='C0DEED', profile_sidebar_fill_color='DDEEF6', profile_text_color='333333', profile_use_background_image=True, has_extended_profile=True, default_profile=True, default_profile_image=False, can_media_tag=True, followed_by=False, following=False, follow_request_sent=False, notifications=False, muting=False, translator_type='none')"
      ]
     },
     "execution_count": 21,
     "metadata": {},
     "output_type": "execute_result"
    }
   ],
   "source": [
    "# follow:\n",
    "api.create_friendship('@SLAMKicks')"
   ]
  },
  {
   "cell_type": "markdown",
   "metadata": {
    "colab_type": "text",
    "id": "Nbp2vRONJhRH"
   },
   "source": [
    "or unfollow:"
   ]
  },
  {
   "cell_type": "code",
   "execution_count": 25,
   "metadata": {
    "colab": {},
    "colab_type": "code",
    "id": "wCsNNVT9JhRH"
   },
   "outputs": [
    {
     "data": {
      "text/plain": [
       "User(_api=<tweepy.api.API object at 0x000001F3E18C0668>, _json={'id': 1054402758412062721, 'id_str': '1054402758412062721', 'name': 'SLAM Kicks', 'screen_name': 'SLAMKicks', 'location': 'New York, NY', 'description': 'Sneakers by @slamonline, The Basketball Bible | KICKS Est. 1999', 'url': None, 'entities': {'description': {'urls': []}}, 'protected': False, 'followers_count': 51348, 'friends_count': 124, 'listed_count': 153, 'created_at': 'Mon Oct 22 16:03:02 +0000 2018', 'favourites_count': 97, 'utc_offset': None, 'time_zone': None, 'geo_enabled': True, 'verified': False, 'statuses_count': 2594, 'lang': None, 'status': {'created_at': 'Sat Nov 23 04:12:01 +0000 2019', 'id': 1198091810817658880, 'id_str': '1198091810817658880', 'text': 'What you know bout the Kobe 3??? \\n\\nPJ Tucker brought em out in the “Rice” colorway. https://t.co/SP9cfjUasJ', 'truncated': False, 'entities': {'hashtags': [], 'symbols': [], 'user_mentions': [], 'urls': [], 'media': [{'id': 1198091804664614913, 'id_str': '1198091804664614913', 'indices': [84, 107], 'media_url': 'http://pbs.twimg.com/media/EKB6JglXUAEvfD5.jpg', 'media_url_https': 'https://pbs.twimg.com/media/EKB6JglXUAEvfD5.jpg', 'url': 'https://t.co/SP9cfjUasJ', 'display_url': 'pic.twitter.com/SP9cfjUasJ', 'expanded_url': 'https://twitter.com/SLAMKicks/status/1198091810817658880/photo/1', 'type': 'photo', 'sizes': {'thumb': {'w': 150, 'h': 150, 'resize': 'crop'}, 'large': {'w': 2048, 'h': 1364, 'resize': 'fit'}, 'small': {'w': 680, 'h': 453, 'resize': 'fit'}, 'medium': {'w': 1200, 'h': 799, 'resize': 'fit'}}, 'features': {'large': {'faces': [{'x': 926, 'y': 570, 'h': 150, 'w': 150}]}, 'small': {'faces': [{'x': 307, 'y': 189, 'h': 49, 'w': 49}]}, 'medium': {'faces': [{'x': 542, 'y': 333, 'h': 87, 'w': 87}]}, 'orig': {'faces': [{'x': 926, 'y': 570, 'h': 150, 'w': 150}]}}}]}, 'extended_entities': {'media': [{'id': 1198091804664614913, 'id_str': '1198091804664614913', 'indices': [84, 107], 'media_url': 'http://pbs.twimg.com/media/EKB6JglXUAEvfD5.jpg', 'media_url_https': 'https://pbs.twimg.com/media/EKB6JglXUAEvfD5.jpg', 'url': 'https://t.co/SP9cfjUasJ', 'display_url': 'pic.twitter.com/SP9cfjUasJ', 'expanded_url': 'https://twitter.com/SLAMKicks/status/1198091810817658880/photo/1', 'type': 'photo', 'sizes': {'thumb': {'w': 150, 'h': 150, 'resize': 'crop'}, 'large': {'w': 2048, 'h': 1364, 'resize': 'fit'}, 'small': {'w': 680, 'h': 453, 'resize': 'fit'}, 'medium': {'w': 1200, 'h': 799, 'resize': 'fit'}}, 'features': {'large': {'faces': [{'x': 926, 'y': 570, 'h': 150, 'w': 150}]}, 'small': {'faces': [{'x': 307, 'y': 189, 'h': 49, 'w': 49}]}, 'medium': {'faces': [{'x': 542, 'y': 333, 'h': 87, 'w': 87}]}, 'orig': {'faces': [{'x': 926, 'y': 570, 'h': 150, 'w': 150}]}}}]}, 'source': '<a href=\"http://twitter.com/download/iphone\" rel=\"nofollow\">Twitter for iPhone</a>', 'in_reply_to_status_id': None, 'in_reply_to_status_id_str': None, 'in_reply_to_user_id': None, 'in_reply_to_user_id_str': None, 'in_reply_to_screen_name': None, 'geo': None, 'coordinates': None, 'place': None, 'contributors': None, 'is_quote_status': False, 'retweet_count': 33, 'favorite_count': 218, 'favorited': False, 'retweeted': False, 'possibly_sensitive': False, 'lang': 'en'}, 'contributors_enabled': False, 'is_translator': False, 'is_translation_enabled': False, 'profile_background_color': 'F5F8FA', 'profile_background_image_url': None, 'profile_background_image_url_https': None, 'profile_background_tile': False, 'profile_image_url': 'http://pbs.twimg.com/profile_images/1055118053162266624/bA2g9HHh_normal.jpg', 'profile_image_url_https': 'https://pbs.twimg.com/profile_images/1055118053162266624/bA2g9HHh_normal.jpg', 'profile_banner_url': 'https://pbs.twimg.com/profile_banners/1054402758412062721/1540400043', 'profile_link_color': '1DA1F2', 'profile_sidebar_border_color': 'C0DEED', 'profile_sidebar_fill_color': 'DDEEF6', 'profile_text_color': '333333', 'profile_use_background_image': True, 'has_extended_profile': True, 'default_profile': True, 'default_profile_image': False, 'can_media_tag': True, 'followed_by': False, 'following': False, 'follow_request_sent': False, 'notifications': False, 'muting': False, 'translator_type': 'none'}, id=1054402758412062721, id_str='1054402758412062721', name='SLAM Kicks', screen_name='SLAMKicks', location='New York, NY', description='Sneakers by @slamonline, The Basketball Bible | KICKS Est. 1999', url=None, entities={'description': {'urls': []}}, protected=False, followers_count=51348, friends_count=124, listed_count=153, created_at=datetime.datetime(2018, 10, 22, 16, 3, 2), favourites_count=97, utc_offset=None, time_zone=None, geo_enabled=True, verified=False, statuses_count=2594, lang=None, status=Status(_api=<tweepy.api.API object at 0x000001F3E18C0668>, _json={'created_at': 'Sat Nov 23 04:12:01 +0000 2019', 'id': 1198091810817658880, 'id_str': '1198091810817658880', 'text': 'What you know bout the Kobe 3??? \\n\\nPJ Tucker brought em out in the “Rice” colorway. https://t.co/SP9cfjUasJ', 'truncated': False, 'entities': {'hashtags': [], 'symbols': [], 'user_mentions': [], 'urls': [], 'media': [{'id': 1198091804664614913, 'id_str': '1198091804664614913', 'indices': [84, 107], 'media_url': 'http://pbs.twimg.com/media/EKB6JglXUAEvfD5.jpg', 'media_url_https': 'https://pbs.twimg.com/media/EKB6JglXUAEvfD5.jpg', 'url': 'https://t.co/SP9cfjUasJ', 'display_url': 'pic.twitter.com/SP9cfjUasJ', 'expanded_url': 'https://twitter.com/SLAMKicks/status/1198091810817658880/photo/1', 'type': 'photo', 'sizes': {'thumb': {'w': 150, 'h': 150, 'resize': 'crop'}, 'large': {'w': 2048, 'h': 1364, 'resize': 'fit'}, 'small': {'w': 680, 'h': 453, 'resize': 'fit'}, 'medium': {'w': 1200, 'h': 799, 'resize': 'fit'}}, 'features': {'large': {'faces': [{'x': 926, 'y': 570, 'h': 150, 'w': 150}]}, 'small': {'faces': [{'x': 307, 'y': 189, 'h': 49, 'w': 49}]}, 'medium': {'faces': [{'x': 542, 'y': 333, 'h': 87, 'w': 87}]}, 'orig': {'faces': [{'x': 926, 'y': 570, 'h': 150, 'w': 150}]}}}]}, 'extended_entities': {'media': [{'id': 1198091804664614913, 'id_str': '1198091804664614913', 'indices': [84, 107], 'media_url': 'http://pbs.twimg.com/media/EKB6JglXUAEvfD5.jpg', 'media_url_https': 'https://pbs.twimg.com/media/EKB6JglXUAEvfD5.jpg', 'url': 'https://t.co/SP9cfjUasJ', 'display_url': 'pic.twitter.com/SP9cfjUasJ', 'expanded_url': 'https://twitter.com/SLAMKicks/status/1198091810817658880/photo/1', 'type': 'photo', 'sizes': {'thumb': {'w': 150, 'h': 150, 'resize': 'crop'}, 'large': {'w': 2048, 'h': 1364, 'resize': 'fit'}, 'small': {'w': 680, 'h': 453, 'resize': 'fit'}, 'medium': {'w': 1200, 'h': 799, 'resize': 'fit'}}, 'features': {'large': {'faces': [{'x': 926, 'y': 570, 'h': 150, 'w': 150}]}, 'small': {'faces': [{'x': 307, 'y': 189, 'h': 49, 'w': 49}]}, 'medium': {'faces': [{'x': 542, 'y': 333, 'h': 87, 'w': 87}]}, 'orig': {'faces': [{'x': 926, 'y': 570, 'h': 150, 'w': 150}]}}}]}, 'source': '<a href=\"http://twitter.com/download/iphone\" rel=\"nofollow\">Twitter for iPhone</a>', 'in_reply_to_status_id': None, 'in_reply_to_status_id_str': None, 'in_reply_to_user_id': None, 'in_reply_to_user_id_str': None, 'in_reply_to_screen_name': None, 'geo': None, 'coordinates': None, 'place': None, 'contributors': None, 'is_quote_status': False, 'retweet_count': 33, 'favorite_count': 218, 'favorited': False, 'retweeted': False, 'possibly_sensitive': False, 'lang': 'en'}, created_at=datetime.datetime(2019, 11, 23, 4, 12, 1), id=1198091810817658880, id_str='1198091810817658880', text='What you know bout the Kobe 3??? \\n\\nPJ Tucker brought em out in the “Rice” colorway. https://t.co/SP9cfjUasJ', truncated=False, entities={'hashtags': [], 'symbols': [], 'user_mentions': [], 'urls': [], 'media': [{'id': 1198091804664614913, 'id_str': '1198091804664614913', 'indices': [84, 107], 'media_url': 'http://pbs.twimg.com/media/EKB6JglXUAEvfD5.jpg', 'media_url_https': 'https://pbs.twimg.com/media/EKB6JglXUAEvfD5.jpg', 'url': 'https://t.co/SP9cfjUasJ', 'display_url': 'pic.twitter.com/SP9cfjUasJ', 'expanded_url': 'https://twitter.com/SLAMKicks/status/1198091810817658880/photo/1', 'type': 'photo', 'sizes': {'thumb': {'w': 150, 'h': 150, 'resize': 'crop'}, 'large': {'w': 2048, 'h': 1364, 'resize': 'fit'}, 'small': {'w': 680, 'h': 453, 'resize': 'fit'}, 'medium': {'w': 1200, 'h': 799, 'resize': 'fit'}}, 'features': {'large': {'faces': [{'x': 926, 'y': 570, 'h': 150, 'w': 150}]}, 'small': {'faces': [{'x': 307, 'y': 189, 'h': 49, 'w': 49}]}, 'medium': {'faces': [{'x': 542, 'y': 333, 'h': 87, 'w': 87}]}, 'orig': {'faces': [{'x': 926, 'y': 570, 'h': 150, 'w': 150}]}}}]}, extended_entities={'media': [{'id': 1198091804664614913, 'id_str': '1198091804664614913', 'indices': [84, 107], 'media_url': 'http://pbs.twimg.com/media/EKB6JglXUAEvfD5.jpg', 'media_url_https': 'https://pbs.twimg.com/media/EKB6JglXUAEvfD5.jpg', 'url': 'https://t.co/SP9cfjUasJ', 'display_url': 'pic.twitter.com/SP9cfjUasJ', 'expanded_url': 'https://twitter.com/SLAMKicks/status/1198091810817658880/photo/1', 'type': 'photo', 'sizes': {'thumb': {'w': 150, 'h': 150, 'resize': 'crop'}, 'large': {'w': 2048, 'h': 1364, 'resize': 'fit'}, 'small': {'w': 680, 'h': 453, 'resize': 'fit'}, 'medium': {'w': 1200, 'h': 799, 'resize': 'fit'}}, 'features': {'large': {'faces': [{'x': 926, 'y': 570, 'h': 150, 'w': 150}]}, 'small': {'faces': [{'x': 307, 'y': 189, 'h': 49, 'w': 49}]}, 'medium': {'faces': [{'x': 542, 'y': 333, 'h': 87, 'w': 87}]}, 'orig': {'faces': [{'x': 926, 'y': 570, 'h': 150, 'w': 150}]}}}]}, source='Twitter for iPhone', source_url='http://twitter.com/download/iphone', in_reply_to_status_id=None, in_reply_to_status_id_str=None, in_reply_to_user_id=None, in_reply_to_user_id_str=None, in_reply_to_screen_name=None, geo=None, coordinates=None, place=None, contributors=None, is_quote_status=False, retweet_count=33, favorite_count=218, favorited=False, retweeted=False, possibly_sensitive=False, lang='en'), contributors_enabled=False, is_translator=False, is_translation_enabled=False, profile_background_color='F5F8FA', profile_background_image_url=None, profile_background_image_url_https=None, profile_background_tile=False, profile_image_url='http://pbs.twimg.com/profile_images/1055118053162266624/bA2g9HHh_normal.jpg', profile_image_url_https='https://pbs.twimg.com/profile_images/1055118053162266624/bA2g9HHh_normal.jpg', profile_banner_url='https://pbs.twimg.com/profile_banners/1054402758412062721/1540400043', profile_link_color='1DA1F2', profile_sidebar_border_color='C0DEED', profile_sidebar_fill_color='DDEEF6', profile_text_color='333333', profile_use_background_image=True, has_extended_profile=True, default_profile=True, default_profile_image=False, can_media_tag=True, followed_by=False, following=False, follow_request_sent=False, notifications=False, muting=False, translator_type='none')"
      ]
     },
     "execution_count": 25,
     "metadata": {},
     "output_type": "execute_result"
    }
   ],
   "source": [
    "# unfollow:\n",
    "api.destroy_friendship('@SLAMKicks')"
   ]
  },
  {
   "cell_type": "code",
   "execution_count": null,
   "metadata": {
    "colab": {},
    "colab_type": "code",
    "id": "ND4BmdkvJhRJ"
   },
   "outputs": [],
   "source": []
  },
  {
   "cell_type": "markdown",
   "metadata": {
    "colab_type": "text",
    "id": "YGIWBU4FJn0V"
   },
   "source": [
    ">\n",
    ">"
   ]
  },
  {
   "cell_type": "markdown",
   "metadata": {
    "colab_type": "text",
    "id": "l_IsftzjJp6w"
   },
   "source": [
    ">\n",
    ">"
   ]
  },
  {
   "cell_type": "markdown",
   "metadata": {
    "colab_type": "text",
    "id": "59l7EOATJrJO"
   },
   "source": [
    "\n",
    "\n",
    "---\n",
    "\n",
    "\n",
    "\n",
    "---\n",
    "\n",
    ">  > > > > > > > > © 2019 Data Science Institute of Australia\n",
    "\n",
    "\n",
    "\n",
    "---\n",
    "\n",
    "\n",
    "\n",
    "---\n",
    "\n"
   ]
  }
 ],
 "metadata": {
  "colab": {
   "collapsed_sections": [],
   "name": "DSIA Lab 2.2.2.ipynb",
   "provenance": [],
   "version": "0.3.2"
  },
  "kernelspec": {
   "display_name": "Python 3",
   "language": "python",
   "name": "python3"
  },
  "language_info": {
   "codemirror_mode": {
    "name": "ipython",
    "version": 3
   },
   "file_extension": ".py",
   "mimetype": "text/x-python",
   "name": "python",
   "nbconvert_exporter": "python",
   "pygments_lexer": "ipython3",
   "version": "3.7.4"
  },
  "varInspector": {
   "cols": {
    "lenName": 16,
    "lenType": 16,
    "lenVar": 40
   },
   "kernels_config": {
    "python": {
     "delete_cmd_postfix": "",
     "delete_cmd_prefix": "del ",
     "library": "var_list.py",
     "varRefreshCmd": "print(var_dic_list())"
    },
    "r": {
     "delete_cmd_postfix": ") ",
     "delete_cmd_prefix": "rm(",
     "library": "var_list.r",
     "varRefreshCmd": "cat(var_dic_list()) "
    }
   },
   "types_to_exclude": [
    "module",
    "function",
    "builtin_function_or_method",
    "instance",
    "_Feature"
   ],
   "window_display": false
  }
 },
 "nbformat": 4,
 "nbformat_minor": 4
}
