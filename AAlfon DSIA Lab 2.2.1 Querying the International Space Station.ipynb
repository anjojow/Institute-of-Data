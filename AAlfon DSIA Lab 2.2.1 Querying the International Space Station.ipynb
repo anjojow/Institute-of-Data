{
 "cells": [
  {
   "cell_type": "markdown",
   "metadata": {
    "colab_type": "text",
    "id": "fneIB8BIGtiY"
   },
   "source": [
    "![alt text](https://i.imgur.com/1WaY7aA.png)\n",
    "\n",
    "\n",
    "\n",
    "---\n",
    "\n",
    "\n",
    "\n",
    "---\n",
    "\n"
   ]
  },
  {
   "cell_type": "markdown",
   "metadata": {
    "colab_type": "text",
    "id": "rdipUchUGtih"
   },
   "source": [
    "# Lab 2.2.1 \n",
    "# *Querying the International Space Station*"
   ]
  },
  {
   "cell_type": "markdown",
   "metadata": {
    "colab_type": "text",
    "id": "b2RLpeJNGtil"
   },
   "source": [
    "## The OpenNotify API"
   ]
  },
  {
   "cell_type": "markdown",
   "metadata": {
    "colab_type": "text",
    "id": "rrunXmMNGtip"
   },
   "source": [
    "The OpenNotify API exposes a few attributes of the International Space Station (ISS) via a simple, authentication-free interface. The simplicity of this API precludes any need for a dedicated Python library. However, as with many APIs, it accepts requests according to HTTP standards and returns responses in JSON format, so the Python libraries request and json will make managing the I/O simpler still."
   ]
  },
  {
   "cell_type": "code",
   "execution_count": 29,
   "metadata": {
    "colab": {},
    "colab_type": "code",
    "id": "xz4PaIIjGtis"
   },
   "outputs": [],
   "source": [
    "import requests\n",
    "import json\n",
    "from datetime import datetime, date, time"
   ]
  },
  {
   "cell_type": "markdown",
   "metadata": {
    "colab_type": "text",
    "id": "tE2vsQo3Gti0"
   },
   "source": [
    "This request fetches the latest position of the international space station:"
   ]
  },
  {
   "cell_type": "code",
   "execution_count": 30,
   "metadata": {
    "colab": {},
    "colab_type": "code",
    "id": "bXBJ6YSPGti3"
   },
   "outputs": [],
   "source": [
    "response = requests.get(\"http://api.open-notify.org/iss-now.json\")"
   ]
  },
  {
   "cell_type": "markdown",
   "metadata": {
    "colab_type": "text",
    "id": "wTbnWjPGGti-"
   },
   "source": [
    "Print the status code of the response:"
   ]
  },
  {
   "cell_type": "code",
   "execution_count": 31,
   "metadata": {},
   "outputs": [
    {
     "name": "stdout",
     "output_type": "stream",
     "text": [
      "200\n"
     ]
    }
   ],
   "source": [
    "print(response.status_code)"
   ]
  },
  {
   "cell_type": "markdown",
   "metadata": {
    "colab_type": "text",
    "id": "eiziNer-GtjF"
   },
   "source": [
    "We can also request the current position of the ISS and the next few times at which it will be over a certain location. The latitude and longitude of Sydney are (-33.87, 151.21). Create a dict named `parameters` whose elements are key:value pairs named `lat` and `lon`, containing those figures:"
   ]
  },
  {
   "cell_type": "code",
   "execution_count": 32,
   "metadata": {
    "colab": {},
    "colab_type": "code",
    "id": "2XZ-ygFkGtjH"
   },
   "outputs": [],
   "source": [
    "parameters = {\"lat\": -33.87, \"lon\": 151.21}"
   ]
  },
  {
   "cell_type": "markdown",
   "metadata": {
    "colab_type": "text",
    "id": "oxRvNtSYGtjK"
   },
   "source": [
    "The API request we want starts like the last one, but the last part of the endpoint is \"iss-pass.json\", and it takes a second argument -- namely, the `parameters` value created above. Compose and execute the API request:"
   ]
  },
  {
   "cell_type": "code",
   "execution_count": 34,
   "metadata": {
    "colab": {},
    "colab_type": "code",
    "id": "ZJMngO5IGtjL"
   },
   "outputs": [],
   "source": [
    "response = requests.get(\"http://api.open-notify.org/iss-pass.json\", params = parameters)"
   ]
  },
  {
   "cell_type": "markdown",
   "metadata": {
    "colab_type": "text",
    "id": "aEl3pwmHGtjN"
   },
   "source": [
    "Print the response header:"
   ]
  },
  {
   "cell_type": "code",
   "execution_count": 35,
   "metadata": {
    "colab": {},
    "colab_type": "code",
    "id": "6rsz7gwbGtjP"
   },
   "outputs": [
    {
     "name": "stdout",
     "output_type": "stream",
     "text": [
      "{'Server': 'nginx/1.10.3', 'Date': 'Mon, 21 Oct 2019 08:25:52 GMT', 'Content-Type': 'application/json', 'Content-Length': '521', 'X-Cache': 'MISS from SYDULT-PX01', 'X-Cache-Lookup': 'MISS from SYDULT-PX01:3128', 'Via': '1.1 vegur, 1.1 SYDULT-PX01 (squid)', 'Connection': 'keep-alive'}\n"
     ]
    }
   ],
   "source": [
    "print(response.headers)"
   ]
  },
  {
   "cell_type": "markdown",
   "metadata": {
    "colab_type": "text",
    "id": "W6tqlzySGtjR"
   },
   "source": [
    "Print the content of the response (the data that the server returned):"
   ]
  },
  {
   "cell_type": "code",
   "execution_count": 36,
   "metadata": {
    "colab": {},
    "colab_type": "code",
    "id": "HbxepzDZGtjS"
   },
   "outputs": [
    {
     "name": "stdout",
     "output_type": "stream",
     "text": [
      "b'{\\n  \"message\": \"success\", \\n  \"request\": {\\n    \"altitude\": 100, \\n    \"datetime\": 1571646352, \\n    \"latitude\": -33.87, \\n    \"longitude\": 151.21, \\n    \"passes\": 5\\n  }, \\n  \"response\": [\\n    {\\n      \"duration\": 607, \\n      \"risetime\": 1571650116\\n    }, \\n    {\\n      \"duration\": 414, \\n      \"risetime\": 1571656084\\n    }, \\n    {\\n      \"duration\": 363, \\n      \"risetime\": 1571662020\\n    }, \\n    {\\n      \"duration\": 560, \\n      \"risetime\": 1571667810\\n    }, \\n    {\\n      \"duration\": 661, \\n      \"risetime\": 1571673588\\n    }\\n  ]\\n}\\n'\n"
     ]
    }
   ],
   "source": [
    "print(response.content)"
   ]
  },
  {
   "cell_type": "markdown",
   "metadata": {
    "colab_type": "text",
    "id": "N7tHPQzDGtjU"
   },
   "source": [
    "Note that this is a Python byte string:"
   ]
  },
  {
   "cell_type": "code",
   "execution_count": 37,
   "metadata": {
    "colab": {},
    "colab_type": "code",
    "id": "k8AMo0yWGtjV"
   },
   "outputs": [
    {
     "name": "stdout",
     "output_type": "stream",
     "text": [
      "<class 'bytes'>\n"
     ]
    }
   ],
   "source": [
    "print(type(response.content))"
   ]
  },
  {
   "cell_type": "markdown",
   "metadata": {
    "colab_type": "text",
    "id": "5tvv9ht_GtjX"
   },
   "source": [
    "Print just the \"content-type\" value from the header:"
   ]
  },
  {
   "cell_type": "code",
   "execution_count": 48,
   "metadata": {
    "colab": {},
    "colab_type": "code",
    "id": "nxWxxLI7GtjX"
   },
   "outputs": [
    {
     "name": "stdout",
     "output_type": "stream",
     "text": [
      "application/json\n"
     ]
    }
   ],
   "source": [
    "print(response.headers['content-type'])"
   ]
  },
  {
   "cell_type": "markdown",
   "metadata": {
    "colab_type": "text",
    "id": "7lPlgn_hGtjZ"
   },
   "source": [
    "JSON was designed to be easy for computers to read, not for people. The `requests` library can decode the JSON byte string:"
   ]
  },
  {
   "cell_type": "code",
   "execution_count": 49,
   "metadata": {
    "colab": {},
    "colab_type": "code",
    "id": "nGVtgDaqGtja"
   },
   "outputs": [
    {
     "name": "stdout",
     "output_type": "stream",
     "text": [
      "{'message': 'success', 'request': {'altitude': 100, 'datetime': 1571646352, 'latitude': -33.87, 'longitude': 151.21, 'passes': 5}, 'response': [{'duration': 607, 'risetime': 1571650116}, {'duration': 414, 'risetime': 1571656084}, {'duration': 363, 'risetime': 1571662020}, {'duration': 560, 'risetime': 1571667810}, {'duration': 661, 'risetime': 1571673588}]}\n"
     ]
    }
   ],
   "source": [
    "request_sydney = response.json()\n",
    "print(overheads)"
   ]
  },
  {
   "cell_type": "markdown",
   "metadata": {
    "colab_type": "text",
    "id": "l9GOdNK5Gtjc"
   },
   "source": [
    "What kind of object did this give us?"
   ]
  },
  {
   "cell_type": "code",
   "execution_count": 53,
   "metadata": {
    "colab": {},
    "colab_type": "code",
    "id": "JBS4nRmSGtjd"
   },
   "outputs": [
    {
     "name": "stdout",
     "output_type": "stream",
     "text": [
      "<class 'dict'>\n"
     ]
    }
   ],
   "source": [
    "print(type(request_sydney))"
   ]
  },
  {
   "cell_type": "markdown",
   "metadata": {
    "colab_type": "text",
    "id": "2ZYJabXQGtjg"
   },
   "source": [
    "Python dicts are easier to work with, but the data we want is still buried in that data structure, so we have to dig it out. First, extract the `response` value to a separate dict:"
   ]
  },
  {
   "cell_type": "code",
   "execution_count": 109,
   "metadata": {
    "colab": {},
    "colab_type": "code",
    "id": "0u8LZg4dGtjh"
   },
   "outputs": [
    {
     "name": "stdout",
     "output_type": "stream",
     "text": [
      "[{'duration': 607, 'risetime': 1571650116}, {'duration': 414, 'risetime': 1571656084}, {'duration': 363, 'risetime': 1571662020}, {'duration': 560, 'risetime': 1571667810}, {'duration': 661, 'risetime': 1571673588}]\n"
     ]
    }
   ],
   "source": [
    "risetime = request_sydney[\"response\"]\n",
    "print(risetime)"
   ]
  },
  {
   "cell_type": "markdown",
   "metadata": {
    "colab_type": "text",
    "id": "hMHzLrfoGtjj"
   },
   "source": [
    "Now extract the `risetime` strings into an array called `srisetimes`"
   ]
  },
  {
   "cell_type": "code",
   "execution_count": 110,
   "metadata": {
    "colab": {},
    "colab_type": "code",
    "id": "nXqJ8_F2Gtjj"
   },
   "outputs": [
    {
     "name": "stdout",
     "output_type": "stream",
     "text": [
      "[1571650116, 1571656084, 1571662020, 1571667810, 1571673588]\n"
     ]
    }
   ],
   "source": [
    "srisetimes = [xrisetime[\"risetime\"] for xrisetime in risetime ]\n",
    "print(srisetimes)"
   ]
  },
  {
   "cell_type": "markdown",
   "metadata": {
    "colab_type": "text",
    "id": "RItuBRt-Gtjl"
   },
   "source": [
    "```\n",
    "datetime.fromtimestamp(str)\n",
    "```\n",
    "\n",
    "Convert these to an array of Python `datetime` values called `risetimes`:"
   ]
  },
  {
   "cell_type": "code",
   "execution_count": 111,
   "metadata": {
    "colab": {},
    "colab_type": "code",
    "id": "8rzyAcLTGtjm"
   },
   "outputs": [
    {
     "name": "stdout",
     "output_type": "stream",
     "text": [
      "2019-10-21 20:28:36\n",
      "2019-10-21 22:08:04\n",
      "2019-10-21 23:47:00\n",
      "2019-10-22 01:23:30\n",
      "2019-10-22 02:59:48\n"
     ]
    }
   ],
   "source": [
    "from datetime import datetime\n",
    "\n",
    "risetimes = []\n",
    "\n",
    "for xrisetime in srisetimes:\n",
    "    df_risetime = datetime.fromtimestamp(xrisetime)\n",
    "    risetimes.append(df_risetime)\n",
    "    print(df_risetime)"
   ]
  },
  {
   "cell_type": "markdown",
   "metadata": {
    "colab_type": "text",
    "id": "l1EmKOFqGtjn"
   },
   "source": [
    "Finally, print these in a format that people understand:\n",
    "\n",
    "\n",
    "\n",
    "```\n",
    "str.strftime('%d/%m/%y %I:%M')\n",
    "\n",
    "27/03/19 10:59\n",
    "27/03/19 12:35\n",
    "27/03/19 02:11\n",
    "28/03/19 03:42\n",
    "28/03/19 05:13\n",
    "```\n",
    "\n"
   ]
  },
  {
   "cell_type": "code",
   "execution_count": 112,
   "metadata": {
    "colab": {},
    "colab_type": "code",
    "id": "AkBE76VqGtjo"
   },
   "outputs": [
    {
     "name": "stdout",
     "output_type": "stream",
     "text": [
      "21/10/19 08:28\n",
      "21/10/19 10:08\n",
      "21/10/19 11:47\n",
      "22/10/19 01:23\n",
      "22/10/19 02:59\n"
     ]
    }
   ],
   "source": [
    "for df_risetime in risetimes:\n",
    "    print(df_risetime.strftime('%d/%m/%y %I:%M'))"
   ]
  },
  {
   "cell_type": "markdown",
   "metadata": {
    "colab_type": "text",
    "id": "iNm6GjX3Gtjq"
   },
   "source": [
    "Here is an endpoint that tells us who is onboard:"
   ]
  },
  {
   "cell_type": "code",
   "execution_count": 113,
   "metadata": {
    "colab": {},
    "colab_type": "code",
    "id": "12yXs_OgGtjs"
   },
   "outputs": [],
   "source": [
    "response = requests.get(\"http://api.open-notify.org/astros.json\")"
   ]
  },
  {
   "cell_type": "markdown",
   "metadata": {
    "colab_type": "text",
    "id": "0Np4S0aAGtj0"
   },
   "source": [
    "Referring to the methods used above, extract the number of astronauts and their names:"
   ]
  },
  {
   "cell_type": "code",
   "execution_count": 114,
   "metadata": {
    "colab": {},
    "colab_type": "code",
    "id": "Oqx5L19_Gtj1"
   },
   "outputs": [],
   "source": [
    "astronauts = response.json()"
   ]
  },
  {
   "cell_type": "code",
   "execution_count": 115,
   "metadata": {},
   "outputs": [
    {
     "name": "stdout",
     "output_type": "stream",
     "text": [
      "{'people': [{'name': 'Christina Koch', 'craft': 'ISS'}, {'name': 'Alexander Skvortsov', 'craft': 'ISS'}, {'name': 'Luca Parmitano', 'craft': 'ISS'}, {'name': 'Andrew Morgan', 'craft': 'ISS'}, {'name': 'Oleg Skripochka', 'craft': 'ISS'}, {'name': 'Jessica Meir', 'craft': 'ISS'}], 'number': 6, 'message': 'success'}\n"
     ]
    }
   ],
   "source": [
    "print(astronauts)"
   ]
  },
  {
   "cell_type": "code",
   "execution_count": 119,
   "metadata": {},
   "outputs": [
    {
     "name": "stdout",
     "output_type": "stream",
     "text": [
      "6\n"
     ]
    }
   ],
   "source": [
    "print(astronauts['number'])"
   ]
  },
  {
   "cell_type": "code",
   "execution_count": 120,
   "metadata": {},
   "outputs": [
    {
     "name": "stdout",
     "output_type": "stream",
     "text": [
      "Christina Koch\n",
      "Alexander Skvortsov\n",
      "Luca Parmitano\n",
      "Andrew Morgan\n",
      "Oleg Skripochka\n",
      "Jessica Meir\n"
     ]
    },
    {
     "data": {
      "text/plain": [
       "[None, None, None, None, None, None]"
      ]
     },
     "execution_count": 120,
     "metadata": {},
     "output_type": "execute_result"
    }
   ],
   "source": [
    "[print(astronaut['name']) for astronaut in astronauts['people']]"
   ]
  },
  {
   "cell_type": "markdown",
   "metadata": {
    "colab_type": "text",
    "id": "A4-DBw_bGtj2"
   },
   "source": [
    "## HOMEWORK\n"
   ]
  },
  {
   "cell_type": "markdown",
   "metadata": {
    "colab_type": "text",
    "id": "c134mC6WGtj3"
   },
   "source": [
    "1. Write a simple handler for the response status code (refer to lab resources slide for HTTP response codes). As this Jupyter Notebook is an interactive device, the handler does not need to manage subsequent code execution (i.e. by branching or aborting execution), although it should return something that could be used to do so if deployed in a Python program."
   ]
  },
  {
   "cell_type": "code",
   "execution_count": null,
   "metadata": {
    "colab": {},
    "colab_type": "code",
    "id": "FZM2NAWuGtj4"
   },
   "outputs": [],
   "source": [
    "#ANSWER:\n",
    "def handleResponse(response, verbose = False):\n",
    "    '''\n",
    "    Returns Boolean Value, Status Code, \n",
    "    '''\n",
    "  # if Status Code is 200 return false, and status code\n",
    "  # Otherwise Return True and Status Code"
   ]
  },
  {
   "cell_type": "markdown",
   "metadata": {
    "colab_type": "text",
    "id": "9aPstlTIGtj5"
   },
   "source": [
    "2. Test your response handler on some correct and incorrect API calls."
   ]
  },
  {
   "cell_type": "code",
   "execution_count": null,
   "metadata": {
    "colab": {},
    "colab_type": "code",
    "id": "GYT1LAb8Gtj6"
   },
   "outputs": [],
   "source": [
    "response = requests.get(\"http://api.open-notify.org/astros.json\")\n",
    "if handleResponse(response)[0]:\n",
    "    print('API call failed. Resolve issue before continuing!')\n",
    "    \n",
    "response = requests.get(\"http://api.open-notify.org/iss-pass.json\")\n",
    "handleResponse(response, True)[0]"
   ]
  },
  {
   "cell_type": "markdown",
   "metadata": {
    "colab_type": "text",
    "id": "k0AWq0rIIPza"
   },
   "source": [
    ">"
   ]
  },
  {
   "cell_type": "markdown",
   "metadata": {
    "colab_type": "text",
    "id": "561tVw5LITP8"
   },
   "source": [
    ">"
   ]
  },
  {
   "cell_type": "markdown",
   "metadata": {
    "colab_type": "text",
    "id": "H8Z7AkhTIUi3"
   },
   "source": [
    ">"
   ]
  },
  {
   "cell_type": "markdown",
   "metadata": {
    "colab_type": "text",
    "id": "2lHXfE7KIHQp"
   },
   "source": [
    "\n",
    "\n",
    "---\n",
    "\n",
    "\n",
    "\n",
    "---\n",
    "\n",
    "\n",
    "> > > > > > > > >© 2019 Data Science Institute of Australia\n",
    "\n",
    "\n",
    "---\n",
    "\n",
    "\n",
    "\n",
    "---\n",
    "\n"
   ]
  }
 ],
 "metadata": {
  "colab": {
   "collapsed_sections": [],
   "name": "DSIA Lab 2.2.1.ipynb",
   "provenance": [
    {
     "file_id": "1RknypYS3TD4wPumGiPV69EWtkq-3UBwF",
     "timestamp": 1553136072736
    }
   ],
   "version": "0.3.2"
  },
  "kernelspec": {
   "display_name": "Python 3",
   "language": "python",
   "name": "python3"
  },
  "language_info": {
   "codemirror_mode": {
    "name": "ipython",
    "version": 3
   },
   "file_extension": ".py",
   "mimetype": "text/x-python",
   "name": "python",
   "nbconvert_exporter": "python",
   "pygments_lexer": "ipython3",
   "version": "3.7.4"
  }
 },
 "nbformat": 4,
 "nbformat_minor": 4
}
